{
 "cells": [
  {
   "cell_type": "code",
   "execution_count": 1,
   "id": "1886bc4f",
   "metadata": {},
   "outputs": [],
   "source": [
    "import pandas as pd"
   ]
  },
  {
   "cell_type": "code",
   "execution_count": 2,
   "id": "68ac6625",
   "metadata": {},
   "outputs": [],
   "source": [
    "path = 'C:/Users/trmyi/Desktop/AI_class/project/house_prediction/'\n",
    "#https://data.gov.tw/dataset/137371 READ DESCRIPTIONS OF COLUMNS\n",
    "df = pd.read_csv(path+'不動產實價登錄資訊-買賣案件-101年.csv')"
   ]
  },
  {
   "cell_type": "code",
   "execution_count": 3,
   "id": "cb2593c5",
   "metadata": {},
   "outputs": [
    {
     "data": {
      "text/html": [
       "<div>\n",
       "<style scoped>\n",
       "    .dataframe tbody tr th:only-of-type {\n",
       "        vertical-align: middle;\n",
       "    }\n",
       "\n",
       "    .dataframe tbody tr th {\n",
       "        vertical-align: top;\n",
       "    }\n",
       "\n",
       "    .dataframe thead th {\n",
       "        text-align: right;\n",
       "    }\n",
       "</style>\n",
       "<table border=\"1\" class=\"dataframe\">\n",
       "  <thead>\n",
       "    <tr style=\"text-align: right;\">\n",
       "      <th></th>\n",
       "      <th>district</th>\n",
       "      <th>rps01</th>\n",
       "      <th>rps02</th>\n",
       "      <th>rps03</th>\n",
       "      <th>rps04</th>\n",
       "      <th>rps05</th>\n",
       "      <th>rps06</th>\n",
       "      <th>rps07</th>\n",
       "      <th>rps08</th>\n",
       "      <th>rps09</th>\n",
       "      <th>...</th>\n",
       "      <th>rps18</th>\n",
       "      <th>rps19</th>\n",
       "      <th>rps20</th>\n",
       "      <th>rps21</th>\n",
       "      <th>rps22</th>\n",
       "      <th>rps23</th>\n",
       "      <th>rps24</th>\n",
       "      <th>rps25</th>\n",
       "      <th>rps26</th>\n",
       "      <th>rps27</th>\n",
       "    </tr>\n",
       "  </thead>\n",
       "  <tbody>\n",
       "    <tr>\n",
       "      <th>0</th>\n",
       "      <td>中和區</td>\n",
       "      <td>房地(土地+建物)</td>\n",
       "      <td>新北市中和區中安街40巷1~30號</td>\n",
       "      <td>12.54</td>\n",
       "      <td>住</td>\n",
       "      <td>NaN</td>\n",
       "      <td>NaN</td>\n",
       "      <td>1010518.0</td>\n",
       "      <td>土地2建物1車位0</td>\n",
       "      <td>六層</td>\n",
       "      <td>...</td>\n",
       "      <td>2.0</td>\n",
       "      <td>有</td>\n",
       "      <td>有</td>\n",
       "      <td>13900000.0</td>\n",
       "      <td>155047.0</td>\n",
       "      <td>NaN</td>\n",
       "      <td>0.0</td>\n",
       "      <td>0.0</td>\n",
       "      <td>地政士僅受託買賣案件申請登記，並無代理撰擬不動產買賣契約書，係由不動產經紀業或權利人自行提供...</td>\n",
       "      <td>RPOPMLOJKHIFFHF87CA</td>\n",
       "    </tr>\n",
       "    <tr>\n",
       "      <th>1</th>\n",
       "      <td>新店區</td>\n",
       "      <td>房地(土地+建物)</td>\n",
       "      <td>新北市新店區玫瑰路58巷1~30號</td>\n",
       "      <td>33.32</td>\n",
       "      <td>住</td>\n",
       "      <td>NaN</td>\n",
       "      <td>NaN</td>\n",
       "      <td>1010711.0</td>\n",
       "      <td>土地3建物1車位0</td>\n",
       "      <td>四層</td>\n",
       "      <td>...</td>\n",
       "      <td>2.0</td>\n",
       "      <td>有</td>\n",
       "      <td>有</td>\n",
       "      <td>5000000.0</td>\n",
       "      <td>48445.0</td>\n",
       "      <td>NaN</td>\n",
       "      <td>0.0</td>\n",
       "      <td>0.0</td>\n",
       "      <td>NaN</td>\n",
       "      <td>RPROMLMLQHHFFCF28EA</td>\n",
       "    </tr>\n",
       "  </tbody>\n",
       "</table>\n",
       "<p>2 rows × 28 columns</p>\n",
       "</div>"
      ],
      "text/plain": [
       "  district      rps01              rps02  rps03 rps04 rps05 rps06      rps07  \\\n",
       "0      中和區  房地(土地+建物)  新北市中和區中安街40巷1~30號  12.54     住   NaN   NaN  1010518.0   \n",
       "1      新店區  房地(土地+建物)  新北市新店區玫瑰路58巷1~30號  33.32     住   NaN   NaN  1010711.0   \n",
       "\n",
       "       rps08 rps09  ... rps18 rps19 rps20       rps21     rps22  rps23  rps24  \\\n",
       "0  土地2建物1車位0    六層  ...   2.0     有     有  13900000.0  155047.0    NaN    0.0   \n",
       "1  土地3建物1車位0    四層  ...   2.0     有     有   5000000.0   48445.0    NaN    0.0   \n",
       "\n",
       "   rps25                                              rps26  \\\n",
       "0    0.0  地政士僅受託買賣案件申請登記，並無代理撰擬不動產買賣契約書，係由不動產經紀業或權利人自行提供...   \n",
       "1    0.0                                                NaN   \n",
       "\n",
       "                 rps27  \n",
       "0  RPOPMLOJKHIFFHF87CA  \n",
       "1  RPROMLMLQHHFFCF28EA  \n",
       "\n",
       "[2 rows x 28 columns]"
      ]
     },
     "execution_count": 3,
     "metadata": {},
     "output_type": "execute_result"
    }
   ],
   "source": [
    "df.head(2)"
   ]
  },
  {
   "cell_type": "code",
   "execution_count": 4,
   "id": "217fc564",
   "metadata": {},
   "outputs": [],
   "source": [
    "import re\n",
    "\n",
    "description = 'district(鄉鎮市區)、rps01(交易標的)、rps02(土地區段位置建物區段門牌)、rps03(土地移轉總面積平方公尺)、rps04(都市土地使用分區)、rps05(非都市土地使用分區)、rps06(非都市土地使用編定)、rps07(交易年月日)、rps08(交易筆棟數)、rps09(移轉層次)、rps10(總樓層數)、rps11(建物型態)、rps12(主要用途)、rps13(主要建材)、rps14(建築完成年月)、rps15(建物移轉總面積平方公尺)、rps16(建物現況格局-房)、rps17(建物現況格局-廳)、rps18(建物現況格局-衛)、rps19(建物現況格局-隔間)、rps20(有無管理組織)、rps21(總價元)、rps22(單價元平方公尺)、rps23(車位類別)、rps24(車位移轉總面積平方公尺)、rps25(車位總價元)、rps26(備註)、rps27(編號)'\n",
    "d_split = description.split('、')\n",
    "\n",
    "d_list = []\n",
    "\n",
    "for i in d_split:\n",
    "    d_list.append(re.search(r'\\((.*?)\\)',i).group(1))\n",
    "    \n",
    "des1 = list(df.columns)\n",
    "\n",
    "df1 = df.rename(columns={i:j for i,j in zip(des1,d_list)})"
   ]
  },
  {
   "cell_type": "code",
   "execution_count": 5,
   "id": "a2f42d6f",
   "metadata": {},
   "outputs": [
    {
     "data": {
      "text/plain": [
       "28"
      ]
     },
     "execution_count": 5,
     "metadata": {},
     "output_type": "execute_result"
    }
   ],
   "source": [
    "len(df1.columns)"
   ]
  },
  {
   "cell_type": "code",
   "execution_count": 6,
   "id": "f6eeff95",
   "metadata": {},
   "outputs": [],
   "source": [
    "col_to_delete_1 = ['土地區段位置建物區段門牌','交易年月日','移轉層次','總樓層數','建築完成年月','建物現況格局-隔間','單價元平方公尺','備註','編號']"
   ]
  },
  {
   "cell_type": "code",
   "execution_count": 7,
   "id": "79d25522",
   "metadata": {},
   "outputs": [
    {
     "data": {
      "text/plain": [
       "19"
      ]
     },
     "execution_count": 7,
     "metadata": {},
     "output_type": "execute_result"
    }
   ],
   "source": [
    "df2 = df1.drop(columns=col_to_delete_1)\n",
    "len(df2.columns)"
   ]
  },
  {
   "cell_type": "code",
   "execution_count": 8,
   "id": "89ab4f05",
   "metadata": {},
   "outputs": [
    {
     "data": {
      "text/plain": [
       "Index(['鄉鎮市區', '交易標的', '土地移轉總面積平方公尺', '都市土地使用分區', '非都市土地使用分區', '非都市土地使用編定',\n",
       "       '交易筆棟數', '建物型態', '主要用途', '主要建材', '建物移轉總面積平方公尺', '建物現況格局-房', '建物現況格局-廳',\n",
       "       '建物現況格局-衛', '有無管理組織', '總價元', '車位類別', '車位移轉總面積平方公尺', '車位總價元'],\n",
       "      dtype='object')"
      ]
     },
     "execution_count": 8,
     "metadata": {},
     "output_type": "execute_result"
    }
   ],
   "source": [
    "df2.columns"
   ]
  },
  {
   "cell_type": "code",
   "execution_count": 9,
   "id": "d46b46ba",
   "metadata": {},
   "outputs": [],
   "source": [
    "des2 = list(df2.columns)\n",
    "eng_des = ['District','Product_type','L_area','CityLandUsageType','NonCityLandUsageType',\n",
    "             'NonCityLandUsage編定','PropertiesIncluded','PropertyType','MainUsage','MainMaterial',\n",
    "            'B_area','Rooms','LivingR','BathR', 'Management','Price','ParkingType','ParkingArea',\n",
    "            'ParkingAreaPrice']"
   ]
  },
  {
   "cell_type": "code",
   "execution_count": 10,
   "id": "6a4a4a40",
   "metadata": {},
   "outputs": [
    {
     "data": {
      "text/plain": [
       "19"
      ]
     },
     "execution_count": 10,
     "metadata": {},
     "output_type": "execute_result"
    }
   ],
   "source": [
    "len(eng_des)"
   ]
  },
  {
   "cell_type": "code",
   "execution_count": 11,
   "id": "8c278484",
   "metadata": {},
   "outputs": [],
   "source": [
    "df3 = df2.rename(columns={i:j for i,j in zip(des2,eng_des)})"
   ]
  },
  {
   "cell_type": "code",
   "execution_count": 12,
   "id": "c94ef05a",
   "metadata": {},
   "outputs": [
    {
     "data": {
      "text/html": [
       "<div>\n",
       "<style scoped>\n",
       "    .dataframe tbody tr th:only-of-type {\n",
       "        vertical-align: middle;\n",
       "    }\n",
       "\n",
       "    .dataframe tbody tr th {\n",
       "        vertical-align: top;\n",
       "    }\n",
       "\n",
       "    .dataframe thead th {\n",
       "        text-align: right;\n",
       "    }\n",
       "</style>\n",
       "<table border=\"1\" class=\"dataframe\">\n",
       "  <thead>\n",
       "    <tr style=\"text-align: right;\">\n",
       "      <th></th>\n",
       "      <th>District</th>\n",
       "      <th>Product_type</th>\n",
       "      <th>L_area</th>\n",
       "      <th>CityLandUsageType</th>\n",
       "      <th>NonCityLandUsageType</th>\n",
       "      <th>NonCityLandUsage編定</th>\n",
       "      <th>PropertiesIncluded</th>\n",
       "      <th>PropertyType</th>\n",
       "      <th>MainUsage</th>\n",
       "      <th>MainMaterial</th>\n",
       "      <th>B_area</th>\n",
       "      <th>Rooms</th>\n",
       "      <th>LivingR</th>\n",
       "      <th>BathR</th>\n",
       "      <th>Management</th>\n",
       "      <th>Price</th>\n",
       "      <th>ParkingType</th>\n",
       "      <th>ParkingArea</th>\n",
       "      <th>ParkingAreaPrice</th>\n",
       "    </tr>\n",
       "  </thead>\n",
       "  <tbody>\n",
       "    <tr>\n",
       "      <th>0</th>\n",
       "      <td>中和區</td>\n",
       "      <td>房地(土地+建物)</td>\n",
       "      <td>12.54</td>\n",
       "      <td>住</td>\n",
       "      <td>NaN</td>\n",
       "      <td>NaN</td>\n",
       "      <td>土地2建物1車位0</td>\n",
       "      <td>住宅大樓(11層含以上有電梯)</td>\n",
       "      <td>住家用</td>\n",
       "      <td>鋼筋混凝土造</td>\n",
       "      <td>89.65</td>\n",
       "      <td>1.0</td>\n",
       "      <td>1.0</td>\n",
       "      <td>2.0</td>\n",
       "      <td>有</td>\n",
       "      <td>13900000.0</td>\n",
       "      <td>NaN</td>\n",
       "      <td>0.0</td>\n",
       "      <td>0.0</td>\n",
       "    </tr>\n",
       "    <tr>\n",
       "      <th>1</th>\n",
       "      <td>新店區</td>\n",
       "      <td>房地(土地+建物)</td>\n",
       "      <td>33.32</td>\n",
       "      <td>住</td>\n",
       "      <td>NaN</td>\n",
       "      <td>NaN</td>\n",
       "      <td>土地3建物1車位0</td>\n",
       "      <td>公寓(5樓含以下無電梯)</td>\n",
       "      <td>住家用</td>\n",
       "      <td>鋼筋混凝土造</td>\n",
       "      <td>103.21</td>\n",
       "      <td>3.0</td>\n",
       "      <td>2.0</td>\n",
       "      <td>2.0</td>\n",
       "      <td>有</td>\n",
       "      <td>5000000.0</td>\n",
       "      <td>NaN</td>\n",
       "      <td>0.0</td>\n",
       "      <td>0.0</td>\n",
       "    </tr>\n",
       "  </tbody>\n",
       "</table>\n",
       "</div>"
      ],
      "text/plain": [
       "  District Product_type  L_area CityLandUsageType NonCityLandUsageType  \\\n",
       "0      中和區    房地(土地+建物)   12.54                 住                  NaN   \n",
       "1      新店區    房地(土地+建物)   33.32                 住                  NaN   \n",
       "\n",
       "  NonCityLandUsage編定 PropertiesIncluded     PropertyType MainUsage  \\\n",
       "0                NaN          土地2建物1車位0  住宅大樓(11層含以上有電梯)       住家用   \n",
       "1                NaN          土地3建物1車位0     公寓(5樓含以下無電梯)       住家用   \n",
       "\n",
       "  MainMaterial  B_area  Rooms  LivingR  BathR Management       Price  \\\n",
       "0       鋼筋混凝土造   89.65    1.0      1.0    2.0          有  13900000.0   \n",
       "1       鋼筋混凝土造  103.21    3.0      2.0    2.0          有   5000000.0   \n",
       "\n",
       "  ParkingType  ParkingArea  ParkingAreaPrice  \n",
       "0         NaN          0.0               0.0  \n",
       "1         NaN          0.0               0.0  "
      ]
     },
     "execution_count": 12,
     "metadata": {},
     "output_type": "execute_result"
    }
   ],
   "source": [
    "df3.head(2)"
   ]
  },
  {
   "cell_type": "code",
   "execution_count": 13,
   "id": "f3750089",
   "metadata": {},
   "outputs": [
    {
     "data": {
      "text/plain": [
       "Index(['District', 'Product_type', 'L_area', 'CityLandUsageType',\n",
       "       'NonCityLandUsageType', 'NonCityLandUsage編定', 'PropertiesIncluded',\n",
       "       'PropertyType', 'MainUsage', 'MainMaterial', 'B_area', 'Rooms',\n",
       "       'LivingR', 'BathR', 'Management', 'Price', 'ParkingType', 'ParkingArea',\n",
       "       'ParkingAreaPrice'],\n",
       "      dtype='object')"
      ]
     },
     "execution_count": 13,
     "metadata": {},
     "output_type": "execute_result"
    }
   ],
   "source": [
    "df3.columns"
   ]
  },
  {
   "cell_type": "code",
   "execution_count": 14,
   "id": "e9621558",
   "metadata": {},
   "outputs": [
    {
     "data": {
      "text/plain": [
       "淡水區    2063\n",
       "新莊區    1200\n",
       "三峽區    1173\n",
       "板橋區    1169\n",
       "中和區    1045\n",
       "汐止區     924\n",
       "三重區     860\n",
       "林口區     850\n",
       "新店區     737\n",
       "土城區     540\n",
       "蘆洲區     440\n",
       "樹林區     413\n",
       "鶯歌區     329\n",
       "永和區     322\n",
       "五股區     205\n",
       "八里區     202\n",
       "三芝區     145\n",
       "泰山區     128\n",
       "深坑區      54\n",
       "瑞芳區      44\n",
       "萬里區      43\n",
       "雙溪區      36\n",
       "金山區      33\n",
       "石門區      16\n",
       "平溪區       5\n",
       "貢寮區       5\n",
       "石碇區       4\n",
       "坪林區       1\n",
       "Name: District, dtype: int64"
      ]
     },
     "execution_count": 14,
     "metadata": {},
     "output_type": "execute_result"
    }
   ],
   "source": [
    "#location_stats = df5['location'].value_counts(ascending=False)\n",
    "district_stats = df3.District.value_counts(ascending=False)\n",
    "district_stats"
   ]
  },
  {
   "cell_type": "code",
   "execution_count": 15,
   "id": "30fc8c9f",
   "metadata": {},
   "outputs": [
    {
     "data": {
      "text/plain": [
       "23"
      ]
     },
     "execution_count": 15,
     "metadata": {},
     "output_type": "execute_result"
    }
   ],
   "source": [
    "len(district_stats[district_stats>30])"
   ]
  },
  {
   "cell_type": "code",
   "execution_count": 16,
   "id": "6254a546",
   "metadata": {},
   "outputs": [
    {
     "data": {
      "text/plain": [
       "28"
      ]
     },
     "execution_count": 16,
     "metadata": {},
     "output_type": "execute_result"
    }
   ],
   "source": [
    "len(district_stats)"
   ]
  },
  {
   "cell_type": "code",
   "execution_count": 17,
   "id": "1687a65b",
   "metadata": {},
   "outputs": [
    {
     "data": {
      "text/plain": [
       "5"
      ]
     },
     "execution_count": 17,
     "metadata": {},
     "output_type": "execute_result"
    }
   ],
   "source": [
    "len(district_stats[district_stats<=30])"
   ]
  },
  {
   "cell_type": "code",
   "execution_count": 18,
   "id": "ba78f8bf",
   "metadata": {},
   "outputs": [
    {
     "data": {
      "text/plain": [
       "石門區    16\n",
       "平溪區     5\n",
       "貢寮區     5\n",
       "石碇區     4\n",
       "坪林區     1\n",
       "Name: District, dtype: int64"
      ]
     },
     "execution_count": 18,
     "metadata": {},
     "output_type": "execute_result"
    }
   ],
   "source": [
    "district_stats_less_than_30 = district_stats[district_stats<=30]\n",
    "district_stats_less_than_30"
   ]
  },
  {
   "cell_type": "code",
   "execution_count": 19,
   "id": "ce9bda42",
   "metadata": {},
   "outputs": [
    {
     "data": {
      "text/plain": [
       "28"
      ]
     },
     "execution_count": 19,
     "metadata": {},
     "output_type": "execute_result"
    }
   ],
   "source": [
    "len(df3.District.unique())"
   ]
  },
  {
   "cell_type": "code",
   "execution_count": 20,
   "id": "f12b5c44",
   "metadata": {},
   "outputs": [
    {
     "data": {
      "text/plain": [
       "24"
      ]
     },
     "execution_count": 20,
     "metadata": {},
     "output_type": "execute_result"
    }
   ],
   "source": [
    "df3.District = df3.District.apply(lambda x: 'other' if x in district_stats_less_than_30 else x)\n",
    "len(df3.District.unique())"
   ]
  },
  {
   "cell_type": "code",
   "execution_count": 21,
   "id": "aea1c738",
   "metadata": {},
   "outputs": [],
   "source": [
    "df3 = df3[~(df3['District'] == 'other')]"
   ]
  },
  {
   "cell_type": "code",
   "execution_count": 22,
   "id": "a9403209",
   "metadata": {},
   "outputs": [
    {
     "data": {
      "text/plain": [
       "Index(['District', 'Product_type', 'L_area', 'CityLandUsageType',\n",
       "       'NonCityLandUsageType', 'NonCityLandUsage編定', 'PropertiesIncluded',\n",
       "       'PropertyType', 'MainUsage', 'MainMaterial', 'B_area', 'Rooms',\n",
       "       'LivingR', 'BathR', 'Management', 'Price', 'ParkingType', 'ParkingArea',\n",
       "       'ParkingAreaPrice'],\n",
       "      dtype='object')"
      ]
     },
     "execution_count": 22,
     "metadata": {},
     "output_type": "execute_result"
    }
   ],
   "source": [
    "df3.columns"
   ]
  },
  {
   "cell_type": "code",
   "execution_count": 23,
   "id": "f9da8ff5",
   "metadata": {},
   "outputs": [
    {
     "data": {
      "text/plain": [
       "房地(土地+建物)       6190\n",
       "房地(土地+建物)+車位    4818\n",
       "土地              1505\n",
       "車位               436\n",
       "建物                 6\n",
       "Name: Product_type, dtype: int64"
      ]
     },
     "execution_count": 23,
     "metadata": {},
     "output_type": "execute_result"
    }
   ],
   "source": [
    "df3.Product_type.value_counts()"
   ]
  },
  {
   "cell_type": "code",
   "execution_count": 24,
   "id": "b945534f",
   "metadata": {},
   "outputs": [],
   "source": [
    "df4 = df3[~((df3['Product_type'] == '車位') | (df3['Product_type'] == '土地'))]"
   ]
  },
  {
   "cell_type": "code",
   "execution_count": 25,
   "id": "f4e41b89",
   "metadata": {},
   "outputs": [
    {
     "data": {
      "text/plain": [
       "房地(土地+建物)       6190\n",
       "房地(土地+建物)+車位    4818\n",
       "建物                 6\n",
       "Name: Product_type, dtype: int64"
      ]
     },
     "execution_count": 25,
     "metadata": {},
     "output_type": "execute_result"
    }
   ],
   "source": [
    "df4.Product_type.value_counts()"
   ]
  },
  {
   "cell_type": "code",
   "execution_count": 90,
   "id": "822c8e5a",
   "metadata": {},
   "outputs": [
    {
     "data": {
      "text/plain": [
       "(8362, 19)"
      ]
     },
     "execution_count": 90,
     "metadata": {},
     "output_type": "execute_result"
    }
   ],
   "source": [
    "df4[df4['CityLandUsageType'] == '住'].shape"
   ]
  },
  {
   "cell_type": "code",
   "execution_count": 26,
   "id": "502dec5d",
   "metadata": {},
   "outputs": [],
   "source": [
    "df5 = df4[df4['CityLandUsageType'] == '住']"
   ]
  },
  {
   "cell_type": "code",
   "execution_count": 27,
   "id": "808888a8",
   "metadata": {},
   "outputs": [
    {
     "data": {
      "text/plain": [
       "(8362, 19)"
      ]
     },
     "execution_count": 27,
     "metadata": {},
     "output_type": "execute_result"
    }
   ],
   "source": [
    "df4[df4['CityLandUsageType'] == '住'].shape"
   ]
  },
  {
   "cell_type": "code",
   "execution_count": 28,
   "id": "43a0ea63",
   "metadata": {},
   "outputs": [
    {
     "data": {
      "text/plain": [
       "住家用        6315\n",
       "見其他登記事項    1607\n",
       "商業用         112\n",
       "住商用          50\n",
       "國民住宅         28\n",
       "工業用          12\n",
       "見使用執照         8\n",
       "停車空間          3\n",
       "住工用           2\n",
       "工商用           1\n",
       "Name: MainUsage, dtype: int64"
      ]
     },
     "execution_count": 28,
     "metadata": {},
     "output_type": "execute_result"
    }
   ],
   "source": [
    "df5.MainUsage.value_counts()"
   ]
  },
  {
   "cell_type": "code",
   "execution_count": 29,
   "id": "da37793b",
   "metadata": {},
   "outputs": [
    {
     "data": {
      "text/plain": [
       "住家用     6315\n",
       "國民住宅      28\n",
       "Name: MainUsage, dtype: int64"
      ]
     },
     "execution_count": 29,
     "metadata": {},
     "output_type": "execute_result"
    }
   ],
   "source": [
    "df6 = df5[(df5['MainUsage'] == '住家用') | (df5['MainUsage'] == '國民住宅')]\n",
    "df6.MainUsage.value_counts()"
   ]
  },
  {
   "cell_type": "code",
   "execution_count": 30,
   "id": "226e85f6",
   "metadata": {},
   "outputs": [
    {
     "data": {
      "text/plain": [
       "Index(['District', 'Product_type', 'L_area', 'CityLandUsageType',\n",
       "       'NonCityLandUsageType', 'NonCityLandUsage編定', 'PropertiesIncluded',\n",
       "       'PropertyType', 'MainUsage', 'MainMaterial', 'B_area', 'Rooms',\n",
       "       'LivingR', 'BathR', 'Management', 'Price', 'ParkingType', 'ParkingArea',\n",
       "       'ParkingAreaPrice'],\n",
       "      dtype='object')"
      ]
     },
     "execution_count": 30,
     "metadata": {},
     "output_type": "execute_result"
    }
   ],
   "source": [
    "df6.columns"
   ]
  },
  {
   "cell_type": "code",
   "execution_count": 31,
   "id": "34d3c137",
   "metadata": {},
   "outputs": [
    {
     "data": {
      "text/plain": [
       "山坡地保育區    74\n",
       "鄉村區       30\n",
       "一般農業區      2\n",
       "Name: NonCityLandUsageType, dtype: int64"
      ]
     },
     "execution_count": 31,
     "metadata": {},
     "output_type": "execute_result"
    }
   ],
   "source": [
    "df6.NonCityLandUsageType.value_counts()"
   ]
  },
  {
   "cell_type": "code",
   "execution_count": 32,
   "id": "931d1534",
   "metadata": {},
   "outputs": [
    {
     "data": {
      "text/plain": [
       "Int64Index([  113,   123,   192,   196,   203,   288,   363,   402,   478,\n",
       "              712,\n",
       "            ...\n",
       "            11498, 11556, 11610, 11886, 12017, 12019, 12487, 12623, 12936,\n",
       "            12983],\n",
       "           dtype='int64', length=106)"
      ]
     },
     "execution_count": 32,
     "metadata": {},
     "output_type": "execute_result"
    }
   ],
   "source": [
    "df6[df6['NonCityLandUsageType'].notna()].index"
   ]
  },
  {
   "cell_type": "code",
   "execution_count": 33,
   "id": "350a7b4e",
   "metadata": {},
   "outputs": [],
   "source": [
    "df7 = df6.drop(index=df6[df6['NonCityLandUsageType'].notna()].index)"
   ]
  },
  {
   "cell_type": "code",
   "execution_count": 34,
   "id": "e1cc2173",
   "metadata": {},
   "outputs": [
    {
     "data": {
      "text/plain": [
       "住宅大樓(11層含以上有電梯)    3193\n",
       "公寓(5樓含以下無電梯)       1755\n",
       "華廈(10層含以下有電梯)       954\n",
       "套房(1房1廳1衛)          193\n",
       "透天厝                 110\n",
       "店面(店鋪)               17\n",
       "其他                   11\n",
       "辦公商業大樓                3\n",
       "工廠                    1\n",
       "Name: PropertyType, dtype: int64"
      ]
     },
     "execution_count": 34,
     "metadata": {},
     "output_type": "execute_result"
    }
   ],
   "source": [
    "df7['PropertyType'].value_counts()"
   ]
  },
  {
   "cell_type": "code",
   "execution_count": 35,
   "id": "390e1bdb",
   "metadata": {},
   "outputs": [],
   "source": [
    "propery_to_delete = ['店面(店鋪)','其他','辦公商業大樓','工廠']"
   ]
  },
  {
   "cell_type": "code",
   "execution_count": 36,
   "id": "58103ae8",
   "metadata": {},
   "outputs": [],
   "source": [
    "df7['PropertyType'] = df7['PropertyType'].apply(lambda x: 'other' if x in propery_to_delete else x)\n",
    "df8 = df7[~(df7['PropertyType'] == 'other')]"
   ]
  },
  {
   "cell_type": "code",
   "execution_count": 37,
   "id": "ec747272",
   "metadata": {},
   "outputs": [
    {
     "data": {
      "text/plain": [
       "住宅大樓(11層含以上有電梯)    3193\n",
       "公寓(5樓含以下無電梯)       1755\n",
       "華廈(10層含以下有電梯)       954\n",
       "套房(1房1廳1衛)          193\n",
       "透天厝                 110\n",
       "Name: PropertyType, dtype: int64"
      ]
     },
     "execution_count": 37,
     "metadata": {},
     "output_type": "execute_result"
    }
   ],
   "source": [
    "df8['PropertyType'].value_counts()"
   ]
  },
  {
   "cell_type": "code",
   "execution_count": 38,
   "id": "e02ff456",
   "metadata": {},
   "outputs": [
    {
     "data": {
      "text/plain": [
       "'住宅大樓'"
      ]
     },
     "execution_count": 38,
     "metadata": {},
     "output_type": "execute_result"
    }
   ],
   "source": [
    "re.search(r\"(.*?)\\(.*\\)+\", '住宅大樓(11層含以上有電梯)').group(1)"
   ]
  },
  {
   "cell_type": "code",
   "execution_count": 39,
   "id": "0edfcdd8",
   "metadata": {},
   "outputs": [
    {
     "data": {
      "text/plain": [
       "'透天厝'"
      ]
     },
     "execution_count": 39,
     "metadata": {},
     "output_type": "execute_result"
    }
   ],
   "source": [
    "'透天厝'.split('(')[0]"
   ]
  },
  {
   "cell_type": "code",
   "execution_count": 40,
   "id": "c4f942aa",
   "metadata": {},
   "outputs": [
    {
     "name": "stderr",
     "output_type": "stream",
     "text": [
      "C:\\Users\\trmyi\\AppData\\Local\\Temp\\ipykernel_1048\\2690953700.py:1: SettingWithCopyWarning: \n",
      "A value is trying to be set on a copy of a slice from a DataFrame.\n",
      "Try using .loc[row_indexer,col_indexer] = value instead\n",
      "\n",
      "See the caveats in the documentation: https://pandas.pydata.org/pandas-docs/stable/user_guide/indexing.html#returning-a-view-versus-a-copy\n",
      "  df8['PropertyType'] = df8['PropertyType'].apply(lambda x: x.split('(')[0])\n"
     ]
    }
   ],
   "source": [
    "df8['PropertyType'] = df8['PropertyType'].apply(lambda x: x.split('(')[0])"
   ]
  },
  {
   "cell_type": "code",
   "execution_count": 41,
   "id": "4a00e42d",
   "metadata": {},
   "outputs": [
    {
     "data": {
      "text/plain": [
       "住宅大樓    3193\n",
       "公寓      1755\n",
       "華廈       954\n",
       "套房       193\n",
       "透天厝      110\n",
       "Name: PropertyType, dtype: int64"
      ]
     },
     "execution_count": 41,
     "metadata": {},
     "output_type": "execute_result"
    }
   ],
   "source": [
    "df8['PropertyType'].value_counts()"
   ]
  },
  {
   "cell_type": "code",
   "execution_count": 42,
   "id": "e9806a1f",
   "metadata": {},
   "outputs": [
    {
     "data": {
      "text/plain": [
       "Index(['District', 'Product_type', 'L_area', 'CityLandUsageType',\n",
       "       'NonCityLandUsageType', 'NonCityLandUsage編定', 'PropertiesIncluded',\n",
       "       'PropertyType', 'MainUsage', 'MainMaterial', 'B_area', 'Rooms',\n",
       "       'LivingR', 'BathR', 'Management', 'Price', 'ParkingType', 'ParkingArea',\n",
       "       'ParkingAreaPrice'],\n",
       "      dtype='object')"
      ]
     },
     "execution_count": 42,
     "metadata": {},
     "output_type": "execute_result"
    }
   ],
   "source": [
    "df8.columns"
   ]
  },
  {
   "cell_type": "code",
   "execution_count": 43,
   "id": "90b4b53f",
   "metadata": {},
   "outputs": [
    {
     "data": {
      "text/plain": [
       "鋼筋混凝土造      5697\n",
       "加強磚造         293\n",
       "鋼骨鋼筋混凝土造     118\n",
       "見其他登記事項       73\n",
       "鋼骨混凝土造        18\n",
       "土造             3\n",
       "磚造             3\n",
       "Name: MainMaterial, dtype: int64"
      ]
     },
     "execution_count": 43,
     "metadata": {},
     "output_type": "execute_result"
    }
   ],
   "source": [
    "df8['MainMaterial'].value_counts()"
   ]
  },
  {
   "cell_type": "code",
   "execution_count": 44,
   "id": "3037f67e",
   "metadata": {},
   "outputs": [
    {
     "data": {
      "text/html": [
       "<div>\n",
       "<style scoped>\n",
       "    .dataframe tbody tr th:only-of-type {\n",
       "        vertical-align: middle;\n",
       "    }\n",
       "\n",
       "    .dataframe tbody tr th {\n",
       "        vertical-align: top;\n",
       "    }\n",
       "\n",
       "    .dataframe thead th {\n",
       "        text-align: right;\n",
       "    }\n",
       "</style>\n",
       "<table border=\"1\" class=\"dataframe\">\n",
       "  <thead>\n",
       "    <tr style=\"text-align: right;\">\n",
       "      <th></th>\n",
       "      <th>District</th>\n",
       "      <th>Product_type</th>\n",
       "      <th>L_area</th>\n",
       "      <th>CityLandUsageType</th>\n",
       "      <th>NonCityLandUsageType</th>\n",
       "      <th>NonCityLandUsage編定</th>\n",
       "      <th>PropertiesIncluded</th>\n",
       "      <th>PropertyType</th>\n",
       "      <th>MainUsage</th>\n",
       "      <th>MainMaterial</th>\n",
       "      <th>B_area</th>\n",
       "      <th>Rooms</th>\n",
       "      <th>LivingR</th>\n",
       "      <th>BathR</th>\n",
       "      <th>Management</th>\n",
       "      <th>Price</th>\n",
       "      <th>ParkingType</th>\n",
       "      <th>ParkingArea</th>\n",
       "      <th>ParkingAreaPrice</th>\n",
       "    </tr>\n",
       "  </thead>\n",
       "  <tbody>\n",
       "    <tr>\n",
       "      <th>0</th>\n",
       "      <td>中和區</td>\n",
       "      <td>房地(土地+建物)</td>\n",
       "      <td>12.54</td>\n",
       "      <td>住</td>\n",
       "      <td>NaN</td>\n",
       "      <td>NaN</td>\n",
       "      <td>土地2建物1車位0</td>\n",
       "      <td>住宅大樓</td>\n",
       "      <td>住家用</td>\n",
       "      <td>鋼筋混凝土造</td>\n",
       "      <td>89.65</td>\n",
       "      <td>1.0</td>\n",
       "      <td>1.0</td>\n",
       "      <td>2.0</td>\n",
       "      <td>有</td>\n",
       "      <td>13900000.0</td>\n",
       "      <td>NaN</td>\n",
       "      <td>0.0</td>\n",
       "      <td>0.0</td>\n",
       "    </tr>\n",
       "    <tr>\n",
       "      <th>1</th>\n",
       "      <td>新店區</td>\n",
       "      <td>房地(土地+建物)</td>\n",
       "      <td>33.32</td>\n",
       "      <td>住</td>\n",
       "      <td>NaN</td>\n",
       "      <td>NaN</td>\n",
       "      <td>土地3建物1車位0</td>\n",
       "      <td>公寓</td>\n",
       "      <td>住家用</td>\n",
       "      <td>鋼筋混凝土造</td>\n",
       "      <td>103.21</td>\n",
       "      <td>3.0</td>\n",
       "      <td>2.0</td>\n",
       "      <td>2.0</td>\n",
       "      <td>有</td>\n",
       "      <td>5000000.0</td>\n",
       "      <td>NaN</td>\n",
       "      <td>0.0</td>\n",
       "      <td>0.0</td>\n",
       "    </tr>\n",
       "  </tbody>\n",
       "</table>\n",
       "</div>"
      ],
      "text/plain": [
       "  District Product_type  L_area CityLandUsageType NonCityLandUsageType  \\\n",
       "0      中和區    房地(土地+建物)   12.54                 住                  NaN   \n",
       "1      新店區    房地(土地+建物)   33.32                 住                  NaN   \n",
       "\n",
       "  NonCityLandUsage編定 PropertiesIncluded PropertyType MainUsage MainMaterial  \\\n",
       "0                NaN          土地2建物1車位0         住宅大樓       住家用       鋼筋混凝土造   \n",
       "1                NaN          土地3建物1車位0           公寓       住家用       鋼筋混凝土造   \n",
       "\n",
       "   B_area  Rooms  LivingR  BathR Management       Price ParkingType  \\\n",
       "0   89.65    1.0      1.0    2.0          有  13900000.0         NaN   \n",
       "1  103.21    3.0      2.0    2.0          有   5000000.0         NaN   \n",
       "\n",
       "   ParkingArea  ParkingAreaPrice  \n",
       "0          0.0               0.0  \n",
       "1          0.0               0.0  "
      ]
     },
     "execution_count": 44,
     "metadata": {},
     "output_type": "execute_result"
    }
   ],
   "source": [
    "df8.head(2)"
   ]
  },
  {
   "cell_type": "code",
   "execution_count": 45,
   "id": "21daae10",
   "metadata": {},
   "outputs": [],
   "source": [
    "cols_to_del_1 = ['Product_type','CityLandUsageType','NonCityLandUsageType','NonCityLandUsage編定',\n",
    "                 'PropertiesIncluded','MainUsage','ParkingType','ParkingArea','ParkingAreaPrice']"
   ]
  },
  {
   "cell_type": "code",
   "execution_count": 46,
   "id": "c5c64f95",
   "metadata": {},
   "outputs": [],
   "source": [
    "df9 = df8.drop(columns=cols_to_del_1)"
   ]
  },
  {
   "cell_type": "code",
   "execution_count": 47,
   "id": "ad27e202",
   "metadata": {},
   "outputs": [
    {
     "data": {
      "text/plain": [
       "Index(['District', 'L_area', 'PropertyType', 'MainMaterial', 'B_area', 'Rooms',\n",
       "       'LivingR', 'BathR', 'Management', 'Price'],\n",
       "      dtype='object')"
      ]
     },
     "execution_count": 47,
     "metadata": {},
     "output_type": "execute_result"
    }
   ],
   "source": [
    "df9.columns"
   ]
  },
  {
   "cell_type": "code",
   "execution_count": 48,
   "id": "5cef1ee8",
   "metadata": {},
   "outputs": [],
   "source": [
    "# look at numeric and categorical values separately \n",
    "df9_num = df9[['L_area','B_area','Rooms','LivingR','BathR','Price']]\n",
    "df9_cat = df9[['District','PropertyType','MainMaterial','Management']]"
   ]
  },
  {
   "cell_type": "code",
   "execution_count": 49,
   "id": "6bf0bc07",
   "metadata": {},
   "outputs": [
    {
     "data": {
      "image/png": "[encoded data removed]",
      "text/plain": [
       "<Figure size 432x288 with 1 Axes>"
      ]
     },
     "metadata": {
      "needs_background": "light"
     },
     "output_type": "display_data"
    },
    {
     "data": {
      "image/png": "[encoded data removed]",
      "text/plain": [
       "<Figure size 432x288 with 1 Axes>"
      ]
     },
     "metadata": {
      "needs_background": "light"
     },
     "output_type": "display_data"
    },
    {
     "data": {
      "image/png": "[encoded data removed]",
      "text/plain": [
       "<Figure size 432x288 with 1 Axes>"
      ]
     },
     "metadata": {
      "needs_background": "light"
     },
     "output_type": "display_data"
    },
    {
     "data": {
      "image/png": "[encoded data removed]",
      "text/plain": [
       "<Figure size 432x288 with 1 Axes>"
      ]
     },
     "metadata": {
      "needs_background": "light"
     },
     "output_type": "display_data"
    },
    {
     "data": {
      "image/png": "[encoded data removed]",
      "text/plain": [
       "<Figure size 432x288 with 1 Axes>"
      ]
     },
     "metadata": {
      "needs_background": "light"
     },
     "output_type": "display_data"
    },
    {
     "data": {
      "image/png": "[encoded data removed]",
      "text/plain": [
       "<Figure size 432x288 with 1 Axes>"
      ]
     },
     "metadata": {
      "needs_background": "light"
     },
     "output_type": "display_data"
    }
   ],
   "source": [
    "import matplotlib.pyplot as plt\n",
    "\n",
    "for i in df9_num.columns:\n",
    "    counts, edges, bars = plt.hist(df9_num[i])\n",
    "    plt.bar_label(bars)\n",
    "    plt.title(i)\n",
    "    plt.show()"
   ]
  },
  {
   "cell_type": "code",
   "execution_count": 50,
   "id": "bfeb9cdf",
   "metadata": {},
   "outputs": [
    {
     "data": {
      "text/plain": [
       "count    6.205000e+03\n",
       "mean     8.845976e+06\n",
       "std      6.630725e+06\n",
       "min      4.000000e+05\n",
       "25%      5.450000e+06\n",
       "50%      7.550000e+06\n",
       "75%      1.030000e+07\n",
       "max      1.328800e+08\n",
       "Name: Price, dtype: float64"
      ]
     },
     "execution_count": 50,
     "metadata": {},
     "output_type": "execute_result"
    }
   ],
   "source": [
    "df9.Price.describe()"
   ]
  },
  {
   "cell_type": "code",
   "execution_count": 53,
   "id": "8254e9f8",
   "metadata": {},
   "outputs": [
    {
     "data": {
      "text/plain": [
       "\"def remove_price_outliers(df):\\n    df_out = pd.DataFrame()\\n    for key, subdf in df.groupby('location'):\\n        m = np.mean(subdf.price_per_sqft)\\n        st = np.std(subdf.price_per_sqft)\\n        reduced_df = subdf[(subdf.price_per_sqft>(m-st)) & (subdf.price_per_sqft<=(m+st))]\\n        df_out = pd.concat([df_out,reduced_df],ignore_index=True)\\n    return df_out\\ndf7 = remove_pps_outliers(df6)\\ndf7.shape\""
      ]
     },
     "execution_count": 53,
     "metadata": {},
     "output_type": "execute_result"
    }
   ],
   "source": [
    "'''def remove_price_outliers(df):\n",
    "    df_out = pd.DataFrame()\n",
    "    for key, subdf in df.groupby('location'):\n",
    "        m = np.mean(subdf.price_per_sqft)\n",
    "        st = np.std(subdf.price_per_sqft)\n",
    "        reduced_df = subdf[(subdf.price_per_sqft>(m-st)) & (subdf.price_per_sqft<=(m+st))]\n",
    "        df_out = pd.concat([df_out,reduced_df],ignore_index=True)\n",
    "    return df_out\n",
    "df7 = remove_pps_outliers(df6)\n",
    "df7.shape'''"
   ]
  },
  {
   "cell_type": "code",
   "execution_count": 54,
   "id": "15f369f8",
   "metadata": {},
   "outputs": [
    {
     "data": {
      "text/plain": [
       "0    155047.406581\n",
       "1     48444.918128\n",
       "2     78125.000000\n",
       "5     44516.558496\n",
       "6     96623.270952\n",
       "Name: price_per_area, dtype: float64"
      ]
     },
     "execution_count": 54,
     "metadata": {},
     "output_type": "execute_result"
    }
   ],
   "source": [
    "df_test = df9.copy()\n",
    "df_test['price_per_area'] = df_test['Price']/df_test['B_area']\n",
    "df_test['price_per_area'].head()"
   ]
  },
  {
   "cell_type": "code",
   "execution_count": 55,
   "id": "ab04f69e",
   "metadata": {},
   "outputs": [
    {
     "data": {
      "text/plain": [
       "count      6205.000000\n",
       "mean      76110.929597\n",
       "std       29634.838109\n",
       "min       11607.340261\n",
       "25%       53263.171405\n",
       "50%       72111.051019\n",
       "75%       94065.934066\n",
       "max      244010.647737\n",
       "Name: price_per_area, dtype: float64"
      ]
     },
     "execution_count": 55,
     "metadata": {},
     "output_type": "execute_result"
    }
   ],
   "source": [
    "df_test['price_per_area'].describe()"
   ]
  },
  {
   "cell_type": "code",
   "execution_count": 56,
   "id": "204cd765",
   "metadata": {},
   "outputs": [],
   "source": [
    "import numpy as np\n",
    "\n",
    "def remove_ppa_outliers(df):\n",
    "    df_out = pd.DataFrame()\n",
    "    for key, subdf in df.groupby('District'):\n",
    "        m = np.mean(subdf.price_per_area)\n",
    "        st = np.std(subdf.price_per_area)\n",
    "        reduced_df = subdf[(subdf.price_per_area>(m-st)) & (subdf.price_per_area<=(m+st))]\n",
    "        df_out = pd.concat([df_out,reduced_df],ignore_index=True)\n",
    "    return df_out"
   ]
  },
  {
   "cell_type": "code",
   "execution_count": 57,
   "id": "a09b1825",
   "metadata": {},
   "outputs": [
    {
     "data": {
      "text/plain": [
       "(4513, 11)"
      ]
     },
     "execution_count": 57,
     "metadata": {},
     "output_type": "execute_result"
    }
   ],
   "source": [
    "df_test1 = remove_ppa_outliers(df_test)\n",
    "df_test1.shape"
   ]
  },
  {
   "cell_type": "code",
   "execution_count": 58,
   "id": "d3ae9ed0",
   "metadata": {},
   "outputs": [
    {
     "name": "stderr",
     "output_type": "stream",
     "text": [
      "c:\\users\\trmyi\\desktop\\ai_class\\project\\house_prediction\\lib\\site-packages\\seaborn\\distributions.py:2619: FutureWarning: `distplot` is a deprecated function and will be removed in a future version. Please adapt your code to use either `displot` (a figure-level function with similar flexibility) or `histplot` (an axes-level function for histograms).\n",
      "  warnings.warn(msg, FutureWarning)\n"
     ]
    },
    {
     "data": {
      "image/png": "[encoded data removed]",
      "text/plain": [
       "<Figure size 432x288 with 1 Axes>"
      ]
     },
     "metadata": {
      "needs_background": "light"
     },
     "output_type": "display_data"
    }
   ],
   "source": [
    "import seaborn as sns\n",
    "\n",
    "#histogram\n",
    "sns.distplot(df_test1['Price']);"
   ]
  },
  {
   "cell_type": "code",
   "execution_count": 59,
   "id": "b67fdcce",
   "metadata": {},
   "outputs": [
    {
     "data": {
      "image/png": "[encoded data removed]",
      "text/plain": [
       "<Figure size 432x288 with 1 Axes>"
      ]
     },
     "metadata": {
      "needs_background": "light"
     },
     "output_type": "display_data"
    }
   ],
   "source": [
    "counts, edges, bars = plt.hist(df_test1['Price'])\n",
    "plt.bar_label(bars)\n",
    "plt.title(i)\n",
    "plt.show()"
   ]
  },
  {
   "cell_type": "code",
   "execution_count": 60,
   "id": "bfb83c6c",
   "metadata": {},
   "outputs": [
    {
     "data": {
      "text/html": [
       "<div>\n",
       "<style scoped>\n",
       "    .dataframe tbody tr th:only-of-type {\n",
       "        vertical-align: middle;\n",
       "    }\n",
       "\n",
       "    .dataframe tbody tr th {\n",
       "        vertical-align: top;\n",
       "    }\n",
       "\n",
       "    .dataframe thead th {\n",
       "        text-align: right;\n",
       "    }\n",
       "</style>\n",
       "<table border=\"1\" class=\"dataframe\">\n",
       "  <thead>\n",
       "    <tr style=\"text-align: right;\">\n",
       "      <th></th>\n",
       "      <th>District</th>\n",
       "      <th>L_area</th>\n",
       "      <th>PropertyType</th>\n",
       "      <th>MainMaterial</th>\n",
       "      <th>B_area</th>\n",
       "      <th>Rooms</th>\n",
       "      <th>LivingR</th>\n",
       "      <th>BathR</th>\n",
       "      <th>Management</th>\n",
       "      <th>Price</th>\n",
       "      <th>price_per_area</th>\n",
       "    </tr>\n",
       "  </thead>\n",
       "  <tbody>\n",
       "    <tr>\n",
       "      <th>333</th>\n",
       "      <td>三重區</td>\n",
       "      <td>67.95</td>\n",
       "      <td>住宅大樓</td>\n",
       "      <td>鋼筋混凝土造</td>\n",
       "      <td>564.64</td>\n",
       "      <td>0.0</td>\n",
       "      <td>0.0</td>\n",
       "      <td>0.0</td>\n",
       "      <td>有</td>\n",
       "      <td>60000000.0</td>\n",
       "      <td>106262.397280</td>\n",
       "    </tr>\n",
       "    <tr>\n",
       "      <th>355</th>\n",
       "      <td>三重區</td>\n",
       "      <td>66.98</td>\n",
       "      <td>住宅大樓</td>\n",
       "      <td>鋼筋混凝土造</td>\n",
       "      <td>465.49</td>\n",
       "      <td>0.0</td>\n",
       "      <td>0.0</td>\n",
       "      <td>0.0</td>\n",
       "      <td>有</td>\n",
       "      <td>53750000.0</td>\n",
       "      <td>115469.720080</td>\n",
       "    </tr>\n",
       "    <tr>\n",
       "      <th>383</th>\n",
       "      <td>三重區</td>\n",
       "      <td>68.20</td>\n",
       "      <td>住宅大樓</td>\n",
       "      <td>鋼筋混凝土造</td>\n",
       "      <td>566.03</td>\n",
       "      <td>0.0</td>\n",
       "      <td>0.0</td>\n",
       "      <td>0.0</td>\n",
       "      <td>有</td>\n",
       "      <td>58000000.0</td>\n",
       "      <td>102468.067064</td>\n",
       "    </tr>\n",
       "    <tr>\n",
       "      <th>464</th>\n",
       "      <td>三重區</td>\n",
       "      <td>67.15</td>\n",
       "      <td>住宅大樓</td>\n",
       "      <td>鋼筋混凝土造</td>\n",
       "      <td>466.46</td>\n",
       "      <td>0.0</td>\n",
       "      <td>0.0</td>\n",
       "      <td>0.0</td>\n",
       "      <td>有</td>\n",
       "      <td>54000000.0</td>\n",
       "      <td>115765.553316</td>\n",
       "    </tr>\n",
       "    <tr>\n",
       "      <th>1223</th>\n",
       "      <td>新店區</td>\n",
       "      <td>120.04</td>\n",
       "      <td>華廈</td>\n",
       "      <td>鋼筋混凝土造</td>\n",
       "      <td>822.94</td>\n",
       "      <td>0.0</td>\n",
       "      <td>0.0</td>\n",
       "      <td>0.0</td>\n",
       "      <td>有</td>\n",
       "      <td>70140000.0</td>\n",
       "      <td>85231.001045</td>\n",
       "    </tr>\n",
       "    <tr>\n",
       "      <th>1224</th>\n",
       "      <td>新店區</td>\n",
       "      <td>120.04</td>\n",
       "      <td>華廈</td>\n",
       "      <td>鋼筋混凝土造</td>\n",
       "      <td>800.74</td>\n",
       "      <td>0.0</td>\n",
       "      <td>0.0</td>\n",
       "      <td>0.0</td>\n",
       "      <td>有</td>\n",
       "      <td>69160000.0</td>\n",
       "      <td>86370.107650</td>\n",
       "    </tr>\n",
       "  </tbody>\n",
       "</table>\n",
       "</div>"
      ],
      "text/plain": [
       "     District  L_area PropertyType MainMaterial  B_area  Rooms  LivingR  \\\n",
       "333       三重區   67.95         住宅大樓       鋼筋混凝土造  564.64    0.0      0.0   \n",
       "355       三重區   66.98         住宅大樓       鋼筋混凝土造  465.49    0.0      0.0   \n",
       "383       三重區   68.20         住宅大樓       鋼筋混凝土造  566.03    0.0      0.0   \n",
       "464       三重區   67.15         住宅大樓       鋼筋混凝土造  466.46    0.0      0.0   \n",
       "1223      新店區  120.04           華廈       鋼筋混凝土造  822.94    0.0      0.0   \n",
       "1224      新店區  120.04           華廈       鋼筋混凝土造  800.74    0.0      0.0   \n",
       "\n",
       "      BathR Management       Price  price_per_area  \n",
       "333     0.0          有  60000000.0   106262.397280  \n",
       "355     0.0          有  53750000.0   115469.720080  \n",
       "383     0.0          有  58000000.0   102468.067064  \n",
       "464     0.0          有  54000000.0   115765.553316  \n",
       "1223    0.0          有  70140000.0    85231.001045  \n",
       "1224    0.0          有  69160000.0    86370.107650  "
      ]
     },
     "execution_count": 60,
     "metadata": {},
     "output_type": "execute_result"
    }
   ],
   "source": [
    "df_test1[df_test1['Price']>50000000]"
   ]
  },
  {
   "cell_type": "code",
   "execution_count": 61,
   "id": "2ce082e7",
   "metadata": {},
   "outputs": [],
   "source": [
    "df_test1 = df_test1.drop(df_test1[df_test1['Rooms'] == 0].index)"
   ]
  },
  {
   "cell_type": "code",
   "execution_count": 62,
   "id": "1dabb1c9",
   "metadata": {},
   "outputs": [
    {
     "data": {
      "text/html": [
       "<div>\n",
       "<style scoped>\n",
       "    .dataframe tbody tr th:only-of-type {\n",
       "        vertical-align: middle;\n",
       "    }\n",
       "\n",
       "    .dataframe tbody tr th {\n",
       "        vertical-align: top;\n",
       "    }\n",
       "\n",
       "    .dataframe thead th {\n",
       "        text-align: right;\n",
       "    }\n",
       "</style>\n",
       "<table border=\"1\" class=\"dataframe\">\n",
       "  <thead>\n",
       "    <tr style=\"text-align: right;\">\n",
       "      <th></th>\n",
       "      <th>District</th>\n",
       "      <th>L_area</th>\n",
       "      <th>PropertyType</th>\n",
       "      <th>MainMaterial</th>\n",
       "      <th>B_area</th>\n",
       "      <th>Rooms</th>\n",
       "      <th>LivingR</th>\n",
       "      <th>BathR</th>\n",
       "      <th>Management</th>\n",
       "      <th>Price</th>\n",
       "      <th>price_per_area</th>\n",
       "    </tr>\n",
       "  </thead>\n",
       "  <tbody>\n",
       "    <tr>\n",
       "      <th>279</th>\n",
       "      <td>三重區</td>\n",
       "      <td>54.59</td>\n",
       "      <td>透天厝</td>\n",
       "      <td>加強磚造</td>\n",
       "      <td>151.20</td>\n",
       "      <td>3.0</td>\n",
       "      <td>5.0</td>\n",
       "      <td>4.0</td>\n",
       "      <td>無</td>\n",
       "      <td>17200000.0</td>\n",
       "      <td>113756.613757</td>\n",
       "    </tr>\n",
       "    <tr>\n",
       "      <th>680</th>\n",
       "      <td>中和區</td>\n",
       "      <td>36.21</td>\n",
       "      <td>住宅大樓</td>\n",
       "      <td>鋼筋混凝土造</td>\n",
       "      <td>410.86</td>\n",
       "      <td>5.0</td>\n",
       "      <td>3.0</td>\n",
       "      <td>6.0</td>\n",
       "      <td>有</td>\n",
       "      <td>37300000.0</td>\n",
       "      <td>90785.182301</td>\n",
       "    </tr>\n",
       "    <tr>\n",
       "      <th>1495</th>\n",
       "      <td>新莊區</td>\n",
       "      <td>16.09</td>\n",
       "      <td>華廈</td>\n",
       "      <td>鋼筋混凝土造</td>\n",
       "      <td>108.99</td>\n",
       "      <td>1.0</td>\n",
       "      <td>1.0</td>\n",
       "      <td>2.0</td>\n",
       "      <td>有</td>\n",
       "      <td>8500000.0</td>\n",
       "      <td>77988.806313</td>\n",
       "    </tr>\n",
       "    <tr>\n",
       "      <th>2318</th>\n",
       "      <td>板橋區</td>\n",
       "      <td>33.60</td>\n",
       "      <td>公寓</td>\n",
       "      <td>鋼筋混凝土造</td>\n",
       "      <td>98.84</td>\n",
       "      <td>1.0</td>\n",
       "      <td>1.0</td>\n",
       "      <td>2.0</td>\n",
       "      <td>無</td>\n",
       "      <td>12000000.0</td>\n",
       "      <td>121408.336706</td>\n",
       "    </tr>\n",
       "    <tr>\n",
       "      <th>2409</th>\n",
       "      <td>林口區</td>\n",
       "      <td>96.01</td>\n",
       "      <td>透天厝</td>\n",
       "      <td>鋼筋混凝土造</td>\n",
       "      <td>281.27</td>\n",
       "      <td>3.0</td>\n",
       "      <td>4.0</td>\n",
       "      <td>4.0</td>\n",
       "      <td>有</td>\n",
       "      <td>16800000.0</td>\n",
       "      <td>59729.085932</td>\n",
       "    </tr>\n",
       "    <tr>\n",
       "      <th>2524</th>\n",
       "      <td>樹林區</td>\n",
       "      <td>16.09</td>\n",
       "      <td>公寓</td>\n",
       "      <td>鋼筋混凝土造</td>\n",
       "      <td>49.50</td>\n",
       "      <td>3.0</td>\n",
       "      <td>1.0</td>\n",
       "      <td>4.0</td>\n",
       "      <td>無</td>\n",
       "      <td>3400000.0</td>\n",
       "      <td>68686.868687</td>\n",
       "    </tr>\n",
       "    <tr>\n",
       "      <th>2551</th>\n",
       "      <td>樹林區</td>\n",
       "      <td>23.93</td>\n",
       "      <td>公寓</td>\n",
       "      <td>鋼筋混凝土造</td>\n",
       "      <td>101.39</td>\n",
       "      <td>1.0</td>\n",
       "      <td>2.0</td>\n",
       "      <td>2.0</td>\n",
       "      <td>無</td>\n",
       "      <td>5800000.0</td>\n",
       "      <td>57204.852550</td>\n",
       "    </tr>\n",
       "    <tr>\n",
       "      <th>2610</th>\n",
       "      <td>永和區</td>\n",
       "      <td>30.40</td>\n",
       "      <td>公寓</td>\n",
       "      <td>鋼筋混凝土造</td>\n",
       "      <td>95.58</td>\n",
       "      <td>1.0</td>\n",
       "      <td>2.0</td>\n",
       "      <td>2.0</td>\n",
       "      <td>無</td>\n",
       "      <td>9600000.0</td>\n",
       "      <td>100439.422473</td>\n",
       "    </tr>\n",
       "    <tr>\n",
       "      <th>3240</th>\n",
       "      <td>淡水區</td>\n",
       "      <td>167.48</td>\n",
       "      <td>透天厝</td>\n",
       "      <td>鋼筋混凝土造</td>\n",
       "      <td>270.77</td>\n",
       "      <td>3.0</td>\n",
       "      <td>3.0</td>\n",
       "      <td>4.0</td>\n",
       "      <td>無</td>\n",
       "      <td>15680000.0</td>\n",
       "      <td>57908.926395</td>\n",
       "    </tr>\n",
       "    <tr>\n",
       "      <th>3281</th>\n",
       "      <td>淡水區</td>\n",
       "      <td>34.27</td>\n",
       "      <td>住宅大樓</td>\n",
       "      <td>鋼筋混凝土造</td>\n",
       "      <td>241.31</td>\n",
       "      <td>1.0</td>\n",
       "      <td>2.0</td>\n",
       "      <td>2.0</td>\n",
       "      <td>有</td>\n",
       "      <td>15500000.0</td>\n",
       "      <td>64232.729684</td>\n",
       "    </tr>\n",
       "  </tbody>\n",
       "</table>\n",
       "</div>"
      ],
      "text/plain": [
       "     District  L_area PropertyType MainMaterial  B_area  Rooms  LivingR  \\\n",
       "279       三重區   54.59          透天厝         加強磚造  151.20    3.0      5.0   \n",
       "680       中和區   36.21         住宅大樓       鋼筋混凝土造  410.86    5.0      3.0   \n",
       "1495      新莊區   16.09           華廈       鋼筋混凝土造  108.99    1.0      1.0   \n",
       "2318      板橋區   33.60           公寓       鋼筋混凝土造   98.84    1.0      1.0   \n",
       "2409      林口區   96.01          透天厝       鋼筋混凝土造  281.27    3.0      4.0   \n",
       "2524      樹林區   16.09           公寓       鋼筋混凝土造   49.50    3.0      1.0   \n",
       "2551      樹林區   23.93           公寓       鋼筋混凝土造  101.39    1.0      2.0   \n",
       "2610      永和區   30.40           公寓       鋼筋混凝土造   95.58    1.0      2.0   \n",
       "3240      淡水區  167.48          透天厝       鋼筋混凝土造  270.77    3.0      3.0   \n",
       "3281      淡水區   34.27         住宅大樓       鋼筋混凝土造  241.31    1.0      2.0   \n",
       "\n",
       "      BathR Management       Price  price_per_area  \n",
       "279     4.0          無  17200000.0   113756.613757  \n",
       "680     6.0          有  37300000.0    90785.182301  \n",
       "1495    2.0          有   8500000.0    77988.806313  \n",
       "2318    2.0          無  12000000.0   121408.336706  \n",
       "2409    4.0          有  16800000.0    59729.085932  \n",
       "2524    4.0          無   3400000.0    68686.868687  \n",
       "2551    2.0          無   5800000.0    57204.852550  \n",
       "2610    2.0          無   9600000.0   100439.422473  \n",
       "3240    4.0          無  15680000.0    57908.926395  \n",
       "3281    2.0          有  15500000.0    64232.729684  "
      ]
     },
     "execution_count": 62,
     "metadata": {},
     "output_type": "execute_result"
    }
   ],
   "source": [
    "df_test1[(df_test1['Rooms'])<(df_test1['BathR'])]"
   ]
  },
  {
   "cell_type": "code",
   "execution_count": 63,
   "id": "a86b89f8",
   "metadata": {},
   "outputs": [
    {
     "data": {
      "text/html": [
       "<div>\n",
       "<style scoped>\n",
       "    .dataframe tbody tr th:only-of-type {\n",
       "        vertical-align: middle;\n",
       "    }\n",
       "\n",
       "    .dataframe tbody tr th {\n",
       "        vertical-align: top;\n",
       "    }\n",
       "\n",
       "    .dataframe thead th {\n",
       "        text-align: right;\n",
       "    }\n",
       "</style>\n",
       "<table border=\"1\" class=\"dataframe\">\n",
       "  <thead>\n",
       "    <tr style=\"text-align: right;\">\n",
       "      <th></th>\n",
       "      <th>District</th>\n",
       "      <th>L_area</th>\n",
       "      <th>PropertyType</th>\n",
       "      <th>MainMaterial</th>\n",
       "      <th>B_area</th>\n",
       "      <th>Rooms</th>\n",
       "      <th>LivingR</th>\n",
       "      <th>BathR</th>\n",
       "      <th>Management</th>\n",
       "      <th>Price</th>\n",
       "      <th>price_per_area</th>\n",
       "    </tr>\n",
       "  </thead>\n",
       "  <tbody>\n",
       "    <tr>\n",
       "      <th>279</th>\n",
       "      <td>三重區</td>\n",
       "      <td>54.59</td>\n",
       "      <td>透天厝</td>\n",
       "      <td>加強磚造</td>\n",
       "      <td>151.20</td>\n",
       "      <td>3.0</td>\n",
       "      <td>5.0</td>\n",
       "      <td>4.0</td>\n",
       "      <td>無</td>\n",
       "      <td>17200000.0</td>\n",
       "      <td>113756.613757</td>\n",
       "    </tr>\n",
       "    <tr>\n",
       "      <th>680</th>\n",
       "      <td>中和區</td>\n",
       "      <td>36.21</td>\n",
       "      <td>住宅大樓</td>\n",
       "      <td>鋼筋混凝土造</td>\n",
       "      <td>410.86</td>\n",
       "      <td>5.0</td>\n",
       "      <td>3.0</td>\n",
       "      <td>6.0</td>\n",
       "      <td>有</td>\n",
       "      <td>37300000.0</td>\n",
       "      <td>90785.182301</td>\n",
       "    </tr>\n",
       "    <tr>\n",
       "      <th>1495</th>\n",
       "      <td>新莊區</td>\n",
       "      <td>16.09</td>\n",
       "      <td>華廈</td>\n",
       "      <td>鋼筋混凝土造</td>\n",
       "      <td>108.99</td>\n",
       "      <td>1.0</td>\n",
       "      <td>1.0</td>\n",
       "      <td>2.0</td>\n",
       "      <td>有</td>\n",
       "      <td>8500000.0</td>\n",
       "      <td>77988.806313</td>\n",
       "    </tr>\n",
       "    <tr>\n",
       "      <th>2318</th>\n",
       "      <td>板橋區</td>\n",
       "      <td>33.60</td>\n",
       "      <td>公寓</td>\n",
       "      <td>鋼筋混凝土造</td>\n",
       "      <td>98.84</td>\n",
       "      <td>1.0</td>\n",
       "      <td>1.0</td>\n",
       "      <td>2.0</td>\n",
       "      <td>無</td>\n",
       "      <td>12000000.0</td>\n",
       "      <td>121408.336706</td>\n",
       "    </tr>\n",
       "    <tr>\n",
       "      <th>2409</th>\n",
       "      <td>林口區</td>\n",
       "      <td>96.01</td>\n",
       "      <td>透天厝</td>\n",
       "      <td>鋼筋混凝土造</td>\n",
       "      <td>281.27</td>\n",
       "      <td>3.0</td>\n",
       "      <td>4.0</td>\n",
       "      <td>4.0</td>\n",
       "      <td>有</td>\n",
       "      <td>16800000.0</td>\n",
       "      <td>59729.085932</td>\n",
       "    </tr>\n",
       "    <tr>\n",
       "      <th>2524</th>\n",
       "      <td>樹林區</td>\n",
       "      <td>16.09</td>\n",
       "      <td>公寓</td>\n",
       "      <td>鋼筋混凝土造</td>\n",
       "      <td>49.50</td>\n",
       "      <td>3.0</td>\n",
       "      <td>1.0</td>\n",
       "      <td>4.0</td>\n",
       "      <td>無</td>\n",
       "      <td>3400000.0</td>\n",
       "      <td>68686.868687</td>\n",
       "    </tr>\n",
       "    <tr>\n",
       "      <th>2551</th>\n",
       "      <td>樹林區</td>\n",
       "      <td>23.93</td>\n",
       "      <td>公寓</td>\n",
       "      <td>鋼筋混凝土造</td>\n",
       "      <td>101.39</td>\n",
       "      <td>1.0</td>\n",
       "      <td>2.0</td>\n",
       "      <td>2.0</td>\n",
       "      <td>無</td>\n",
       "      <td>5800000.0</td>\n",
       "      <td>57204.852550</td>\n",
       "    </tr>\n",
       "    <tr>\n",
       "      <th>2610</th>\n",
       "      <td>永和區</td>\n",
       "      <td>30.40</td>\n",
       "      <td>公寓</td>\n",
       "      <td>鋼筋混凝土造</td>\n",
       "      <td>95.58</td>\n",
       "      <td>1.0</td>\n",
       "      <td>2.0</td>\n",
       "      <td>2.0</td>\n",
       "      <td>無</td>\n",
       "      <td>9600000.0</td>\n",
       "      <td>100439.422473</td>\n",
       "    </tr>\n",
       "    <tr>\n",
       "      <th>3240</th>\n",
       "      <td>淡水區</td>\n",
       "      <td>167.48</td>\n",
       "      <td>透天厝</td>\n",
       "      <td>鋼筋混凝土造</td>\n",
       "      <td>270.77</td>\n",
       "      <td>3.0</td>\n",
       "      <td>3.0</td>\n",
       "      <td>4.0</td>\n",
       "      <td>無</td>\n",
       "      <td>15680000.0</td>\n",
       "      <td>57908.926395</td>\n",
       "    </tr>\n",
       "    <tr>\n",
       "      <th>3281</th>\n",
       "      <td>淡水區</td>\n",
       "      <td>34.27</td>\n",
       "      <td>住宅大樓</td>\n",
       "      <td>鋼筋混凝土造</td>\n",
       "      <td>241.31</td>\n",
       "      <td>1.0</td>\n",
       "      <td>2.0</td>\n",
       "      <td>2.0</td>\n",
       "      <td>有</td>\n",
       "      <td>15500000.0</td>\n",
       "      <td>64232.729684</td>\n",
       "    </tr>\n",
       "  </tbody>\n",
       "</table>\n",
       "</div>"
      ],
      "text/plain": [
       "     District  L_area PropertyType MainMaterial  B_area  Rooms  LivingR  \\\n",
       "279       三重區   54.59          透天厝         加強磚造  151.20    3.0      5.0   \n",
       "680       中和區   36.21         住宅大樓       鋼筋混凝土造  410.86    5.0      3.0   \n",
       "1495      新莊區   16.09           華廈       鋼筋混凝土造  108.99    1.0      1.0   \n",
       "2318      板橋區   33.60           公寓       鋼筋混凝土造   98.84    1.0      1.0   \n",
       "2409      林口區   96.01          透天厝       鋼筋混凝土造  281.27    3.0      4.0   \n",
       "2524      樹林區   16.09           公寓       鋼筋混凝土造   49.50    3.0      1.0   \n",
       "2551      樹林區   23.93           公寓       鋼筋混凝土造  101.39    1.0      2.0   \n",
       "2610      永和區   30.40           公寓       鋼筋混凝土造   95.58    1.0      2.0   \n",
       "3240      淡水區  167.48          透天厝       鋼筋混凝土造  270.77    3.0      3.0   \n",
       "3281      淡水區   34.27         住宅大樓       鋼筋混凝土造  241.31    1.0      2.0   \n",
       "\n",
       "      BathR Management       Price  price_per_area  \n",
       "279     4.0          無  17200000.0   113756.613757  \n",
       "680     6.0          有  37300000.0    90785.182301  \n",
       "1495    2.0          有   8500000.0    77988.806313  \n",
       "2318    2.0          無  12000000.0   121408.336706  \n",
       "2409    4.0          有  16800000.0    59729.085932  \n",
       "2524    4.0          無   3400000.0    68686.868687  \n",
       "2551    2.0          無   5800000.0    57204.852550  \n",
       "2610    2.0          無   9600000.0   100439.422473  \n",
       "3240    4.0          無  15680000.0    57908.926395  \n",
       "3281    2.0          有  15500000.0    64232.729684  "
      ]
     },
     "execution_count": 63,
     "metadata": {},
     "output_type": "execute_result"
    }
   ],
   "source": [
    "df_test1[(df_test1['Rooms'])<(df_test1['BathR'])]"
   ]
  },
  {
   "cell_type": "code",
   "execution_count": 64,
   "id": "624245b2",
   "metadata": {},
   "outputs": [
    {
     "data": {
      "text/html": [
       "<div>\n",
       "<style scoped>\n",
       "    .dataframe tbody tr th:only-of-type {\n",
       "        vertical-align: middle;\n",
       "    }\n",
       "\n",
       "    .dataframe tbody tr th {\n",
       "        vertical-align: top;\n",
       "    }\n",
       "\n",
       "    .dataframe thead th {\n",
       "        text-align: right;\n",
       "    }\n",
       "</style>\n",
       "<table border=\"1\" class=\"dataframe\">\n",
       "  <thead>\n",
       "    <tr style=\"text-align: right;\">\n",
       "      <th></th>\n",
       "      <th>District</th>\n",
       "      <th>L_area</th>\n",
       "      <th>PropertyType</th>\n",
       "      <th>MainMaterial</th>\n",
       "      <th>B_area</th>\n",
       "      <th>Rooms</th>\n",
       "      <th>LivingR</th>\n",
       "      <th>BathR</th>\n",
       "      <th>Management</th>\n",
       "      <th>Price</th>\n",
       "      <th>price_per_area</th>\n",
       "    </tr>\n",
       "  </thead>\n",
       "  <tbody>\n",
       "    <tr>\n",
       "      <th>279</th>\n",
       "      <td>三重區</td>\n",
       "      <td>54.59</td>\n",
       "      <td>透天厝</td>\n",
       "      <td>加強磚造</td>\n",
       "      <td>151.20</td>\n",
       "      <td>3.0</td>\n",
       "      <td>5.0</td>\n",
       "      <td>4.0</td>\n",
       "      <td>無</td>\n",
       "      <td>17200000.0</td>\n",
       "      <td>113756.613757</td>\n",
       "    </tr>\n",
       "    <tr>\n",
       "      <th>1368</th>\n",
       "      <td>新店區</td>\n",
       "      <td>36.85</td>\n",
       "      <td>公寓</td>\n",
       "      <td>加強磚造</td>\n",
       "      <td>110.44</td>\n",
       "      <td>6.0</td>\n",
       "      <td>6.0</td>\n",
       "      <td>6.0</td>\n",
       "      <td>無</td>\n",
       "      <td>10000000.0</td>\n",
       "      <td>90546.903296</td>\n",
       "    </tr>\n",
       "    <tr>\n",
       "      <th>1555</th>\n",
       "      <td>新莊區</td>\n",
       "      <td>41.39</td>\n",
       "      <td>公寓</td>\n",
       "      <td>鋼筋混凝土造</td>\n",
       "      <td>128.79</td>\n",
       "      <td>5.0</td>\n",
       "      <td>5.0</td>\n",
       "      <td>3.0</td>\n",
       "      <td>有</td>\n",
       "      <td>7800000.0</td>\n",
       "      <td>60563.708362</td>\n",
       "    </tr>\n",
       "    <tr>\n",
       "      <th>1909</th>\n",
       "      <td>板橋區</td>\n",
       "      <td>105.00</td>\n",
       "      <td>透天厝</td>\n",
       "      <td>加強磚造</td>\n",
       "      <td>225.33</td>\n",
       "      <td>5.0</td>\n",
       "      <td>5.0</td>\n",
       "      <td>3.0</td>\n",
       "      <td>無</td>\n",
       "      <td>18000000.0</td>\n",
       "      <td>79882.838504</td>\n",
       "    </tr>\n",
       "    <tr>\n",
       "      <th>2147</th>\n",
       "      <td>板橋區</td>\n",
       "      <td>36.30</td>\n",
       "      <td>公寓</td>\n",
       "      <td>鋼筋混凝土造</td>\n",
       "      <td>96.46</td>\n",
       "      <td>5.0</td>\n",
       "      <td>5.0</td>\n",
       "      <td>5.0</td>\n",
       "      <td>無</td>\n",
       "      <td>7500000.0</td>\n",
       "      <td>77752.436243</td>\n",
       "    </tr>\n",
       "  </tbody>\n",
       "</table>\n",
       "</div>"
      ],
      "text/plain": [
       "     District  L_area PropertyType MainMaterial  B_area  Rooms  LivingR  \\\n",
       "279       三重區   54.59          透天厝         加強磚造  151.20    3.0      5.0   \n",
       "1368      新店區   36.85           公寓         加強磚造  110.44    6.0      6.0   \n",
       "1555      新莊區   41.39           公寓       鋼筋混凝土造  128.79    5.0      5.0   \n",
       "1909      板橋區  105.00          透天厝         加強磚造  225.33    5.0      5.0   \n",
       "2147      板橋區   36.30           公寓       鋼筋混凝土造   96.46    5.0      5.0   \n",
       "\n",
       "      BathR Management       Price  price_per_area  \n",
       "279     4.0          無  17200000.0   113756.613757  \n",
       "1368    6.0          無  10000000.0    90546.903296  \n",
       "1555    3.0          有   7800000.0    60563.708362  \n",
       "1909    3.0          無  18000000.0    79882.838504  \n",
       "2147    5.0          無   7500000.0    77752.436243  "
      ]
     },
     "execution_count": 64,
     "metadata": {},
     "output_type": "execute_result"
    }
   ],
   "source": [
    "df_test1[(df_test1['LivingR'])>4]"
   ]
  },
  {
   "cell_type": "code",
   "execution_count": 65,
   "id": "76a8c331",
   "metadata": {},
   "outputs": [
    {
     "data": {
      "image/png": "[encoded data removed]",
      "text/plain": [
       "<Figure size 432x288 with 1 Axes>"
      ]
     },
     "metadata": {
      "needs_background": "light"
     },
     "output_type": "display_data"
    },
    {
     "data": {
      "image/png": "[encoded data removed]",
      "text/plain": [
       "<Figure size 432x288 with 1 Axes>"
      ]
     },
     "metadata": {
      "needs_background": "light"
     },
     "output_type": "display_data"
    },
    {
     "data": {
      "image/png": "[encoded data removed]",
      "text/plain": [
       "<Figure size 432x288 with 1 Axes>"
      ]
     },
     "metadata": {
      "needs_background": "light"
     },
     "output_type": "display_data"
    }
   ],
   "source": [
    "for i in ['Rooms','LivingR','BathR']:\n",
    "    counts, edges, bars = plt.hist(df_test1[i])\n",
    "    plt.bar_label(bars)\n",
    "    plt.title(i)\n",
    "    plt.show()"
   ]
  },
  {
   "cell_type": "code",
   "execution_count": 66,
   "id": "510b5bf2",
   "metadata": {},
   "outputs": [],
   "source": [
    "df10 = df9.copy()\n",
    "df10['price_per_area'] = df10['Price']/df10['B_area']"
   ]
  },
  {
   "cell_type": "code",
   "execution_count": 67,
   "id": "c774d514",
   "metadata": {},
   "outputs": [
    {
     "data": {
      "text/plain": [
       "(4513, 11)"
      ]
     },
     "execution_count": 67,
     "metadata": {},
     "output_type": "execute_result"
    }
   ],
   "source": [
    "df10 = remove_ppa_outliers(df10)\n",
    "df10.shape"
   ]
  },
  {
   "cell_type": "code",
   "execution_count": 68,
   "id": "c5a0ed7c",
   "metadata": {},
   "outputs": [],
   "source": [
    "df11 = df10[df10['Price']<50000000]"
   ]
  },
  {
   "cell_type": "code",
   "execution_count": 69,
   "id": "02846d6d",
   "metadata": {},
   "outputs": [],
   "source": [
    "df12 = df11[(df11['LivingR'])<4]"
   ]
  },
  {
   "cell_type": "code",
   "execution_count": 70,
   "id": "5df6b4e6",
   "metadata": {},
   "outputs": [
    {
     "data": {
      "image/png": "[encoded data removed]",
      "text/plain": [
       "<Figure size 432x288 with 1 Axes>"
      ]
     },
     "metadata": {
      "needs_background": "light"
     },
     "output_type": "display_data"
    },
    {
     "data": {
      "image/png": "[encoded data removed]",
      "text/plain": [
       "<Figure size 432x288 with 1 Axes>"
      ]
     },
     "metadata": {
      "needs_background": "light"
     },
     "output_type": "display_data"
    },
    {
     "data": {
      "image/png": "[encoded data removed]",
      "text/plain": [
       "<Figure size 432x288 with 1 Axes>"
      ]
     },
     "metadata": {
      "needs_background": "light"
     },
     "output_type": "display_data"
    }
   ],
   "source": [
    "for i in ['Rooms','LivingR','BathR']:\n",
    "    counts, edges, bars = plt.hist(df12[i])\n",
    "    plt.bar_label(bars)\n",
    "    plt.title(i)\n",
    "    plt.show()"
   ]
  },
  {
   "cell_type": "code",
   "execution_count": 71,
   "id": "b430b72a",
   "metadata": {},
   "outputs": [],
   "source": [
    "df12 = df12[df12['Rooms']<15]"
   ]
  },
  {
   "cell_type": "code",
   "execution_count": 72,
   "id": "7cbf7401",
   "metadata": {},
   "outputs": [
    {
     "data": {
      "text/plain": [
       "Index(['District', 'L_area', 'PropertyType', 'MainMaterial', 'B_area', 'Rooms',\n",
       "       'LivingR', 'BathR', 'Management', 'Price', 'price_per_area'],\n",
       "      dtype='object')"
      ]
     },
     "execution_count": 72,
     "metadata": {},
     "output_type": "execute_result"
    }
   ],
   "source": [
    "df12.columns"
   ]
  },
  {
   "cell_type": "code",
   "execution_count": 73,
   "id": "03c2a0f9",
   "metadata": {},
   "outputs": [
    {
     "data": {
      "text/plain": [
       "有    3041\n",
       "無    1443\n",
       "Name: Management, dtype: int64"
      ]
     },
     "execution_count": 73,
     "metadata": {},
     "output_type": "execute_result"
    }
   ],
   "source": [
    "df12.Management.value_counts()"
   ]
  },
  {
   "cell_type": "code",
   "execution_count": 74,
   "id": "e73b0a7b",
   "metadata": {},
   "outputs": [],
   "source": [
    "df12['Management'] = df12[\"Management\"].replace({\"有\": 1 ,\"無\": 2})"
   ]
  },
  {
   "cell_type": "code",
   "execution_count": 75,
   "id": "ec1212a5",
   "metadata": {},
   "outputs": [
    {
     "data": {
      "text/html": [
       "<div>\n",
       "<style scoped>\n",
       "    .dataframe tbody tr th:only-of-type {\n",
       "        vertical-align: middle;\n",
       "    }\n",
       "\n",
       "    .dataframe tbody tr th {\n",
       "        vertical-align: top;\n",
       "    }\n",
       "\n",
       "    .dataframe thead th {\n",
       "        text-align: right;\n",
       "    }\n",
       "</style>\n",
       "<table border=\"1\" class=\"dataframe\">\n",
       "  <thead>\n",
       "    <tr style=\"text-align: right;\">\n",
       "      <th></th>\n",
       "      <th>District</th>\n",
       "      <th>L_area</th>\n",
       "      <th>PropertyType</th>\n",
       "      <th>MainMaterial</th>\n",
       "      <th>B_area</th>\n",
       "      <th>Rooms</th>\n",
       "      <th>LivingR</th>\n",
       "      <th>BathR</th>\n",
       "      <th>Management</th>\n",
       "      <th>Price</th>\n",
       "      <th>price_per_area</th>\n",
       "    </tr>\n",
       "  </thead>\n",
       "  <tbody>\n",
       "    <tr>\n",
       "      <th>0</th>\n",
       "      <td>三峽區</td>\n",
       "      <td>25.04</td>\n",
       "      <td>住宅大樓</td>\n",
       "      <td>鋼筋混凝土造</td>\n",
       "      <td>195.33</td>\n",
       "      <td>4.0</td>\n",
       "      <td>2.0</td>\n",
       "      <td>2.0</td>\n",
       "      <td>1</td>\n",
       "      <td>11750000.0</td>\n",
       "      <td>60154.610147</td>\n",
       "    </tr>\n",
       "    <tr>\n",
       "      <th>1</th>\n",
       "      <td>三峽區</td>\n",
       "      <td>28.92</td>\n",
       "      <td>華廈</td>\n",
       "      <td>鋼筋混凝土造</td>\n",
       "      <td>131.60</td>\n",
       "      <td>3.0</td>\n",
       "      <td>2.0</td>\n",
       "      <td>2.0</td>\n",
       "      <td>1</td>\n",
       "      <td>6300000.0</td>\n",
       "      <td>47872.340426</td>\n",
       "    </tr>\n",
       "    <tr>\n",
       "      <th>2</th>\n",
       "      <td>三峽區</td>\n",
       "      <td>11.05</td>\n",
       "      <td>住宅大樓</td>\n",
       "      <td>鋼筋混凝土造</td>\n",
       "      <td>75.22</td>\n",
       "      <td>2.0</td>\n",
       "      <td>1.0</td>\n",
       "      <td>1.0</td>\n",
       "      <td>1</td>\n",
       "      <td>3850000.0</td>\n",
       "      <td>51183.195959</td>\n",
       "    </tr>\n",
       "    <tr>\n",
       "      <th>3</th>\n",
       "      <td>三峽區</td>\n",
       "      <td>41.99</td>\n",
       "      <td>華廈</td>\n",
       "      <td>鋼筋混凝土造</td>\n",
       "      <td>183.16</td>\n",
       "      <td>4.0</td>\n",
       "      <td>2.0</td>\n",
       "      <td>2.0</td>\n",
       "      <td>1</td>\n",
       "      <td>10800000.0</td>\n",
       "      <td>58964.839485</td>\n",
       "    </tr>\n",
       "    <tr>\n",
       "      <th>4</th>\n",
       "      <td>三峽區</td>\n",
       "      <td>27.10</td>\n",
       "      <td>住宅大樓</td>\n",
       "      <td>鋼筋混凝土造</td>\n",
       "      <td>186.50</td>\n",
       "      <td>3.0</td>\n",
       "      <td>2.0</td>\n",
       "      <td>2.0</td>\n",
       "      <td>1</td>\n",
       "      <td>11000000.0</td>\n",
       "      <td>58981.233244</td>\n",
       "    </tr>\n",
       "  </tbody>\n",
       "</table>\n",
       "</div>"
      ],
      "text/plain": [
       "  District  L_area PropertyType MainMaterial  B_area  Rooms  LivingR  BathR  \\\n",
       "0      三峽區   25.04         住宅大樓       鋼筋混凝土造  195.33    4.0      2.0    2.0   \n",
       "1      三峽區   28.92           華廈       鋼筋混凝土造  131.60    3.0      2.0    2.0   \n",
       "2      三峽區   11.05         住宅大樓       鋼筋混凝土造   75.22    2.0      1.0    1.0   \n",
       "3      三峽區   41.99           華廈       鋼筋混凝土造  183.16    4.0      2.0    2.0   \n",
       "4      三峽區   27.10         住宅大樓       鋼筋混凝土造  186.50    3.0      2.0    2.0   \n",
       "\n",
       "   Management       Price  price_per_area  \n",
       "0           1  11750000.0    60154.610147  \n",
       "1           1   6300000.0    47872.340426  \n",
       "2           1   3850000.0    51183.195959  \n",
       "3           1  10800000.0    58964.839485  \n",
       "4           1  11000000.0    58981.233244  "
      ]
     },
     "execution_count": 75,
     "metadata": {},
     "output_type": "execute_result"
    }
   ],
   "source": [
    "df12.head()"
   ]
  },
  {
   "cell_type": "code",
   "execution_count": 76,
   "id": "8ebf52b7",
   "metadata": {},
   "outputs": [
    {
     "data": {
      "text/plain": [
       "鋼筋混凝土造      4185\n",
       "加強磚造         171\n",
       "鋼骨鋼筋混凝土造      80\n",
       "見其他登記事項       34\n",
       "鋼骨混凝土造        11\n",
       "磚造             2\n",
       "土造             1\n",
       "Name: MainMaterial, dtype: int64"
      ]
     },
     "execution_count": 76,
     "metadata": {},
     "output_type": "execute_result"
    }
   ],
   "source": [
    "df12['MainMaterial'].value_counts()"
   ]
  },
  {
   "cell_type": "code",
   "execution_count": 77,
   "id": "2a582ad0",
   "metadata": {},
   "outputs": [],
   "source": [
    "df13 = df12[~(df12['MainMaterial']=='見其他登記事項')]"
   ]
  },
  {
   "cell_type": "code",
   "execution_count": 78,
   "id": "09094f49",
   "metadata": {},
   "outputs": [
    {
     "name": "stdout",
     "output_type": "stream",
     "text": [
      "<class 'pandas.core.frame.DataFrame'>\n",
      "Int64Index: 4450 entries, 0 to 4512\n",
      "Data columns (total 11 columns):\n",
      " #   Column          Non-Null Count  Dtype  \n",
      "---  ------          --------------  -----  \n",
      " 0   District        4450 non-null   object \n",
      " 1   L_area          4450 non-null   float64\n",
      " 2   PropertyType    4450 non-null   object \n",
      " 3   MainMaterial    4450 non-null   object \n",
      " 4   B_area          4450 non-null   float64\n",
      " 5   Rooms           4450 non-null   float64\n",
      " 6   LivingR         4450 non-null   float64\n",
      " 7   BathR           4450 non-null   float64\n",
      " 8   Management      4450 non-null   int64  \n",
      " 9   Price           4450 non-null   float64\n",
      " 10  price_per_area  4450 non-null   float64\n",
      "dtypes: float64(7), int64(1), object(3)\n",
      "memory usage: 417.2+ KB\n"
     ]
    }
   ],
   "source": [
    "df13.info()"
   ]
  },
  {
   "cell_type": "code",
   "execution_count": 79,
   "id": "3f111be3",
   "metadata": {},
   "outputs": [
    {
     "data": {
      "text/html": [
       "<div>\n",
       "<style scoped>\n",
       "    .dataframe tbody tr th:only-of-type {\n",
       "        vertical-align: middle;\n",
       "    }\n",
       "\n",
       "    .dataframe tbody tr th {\n",
       "        vertical-align: top;\n",
       "    }\n",
       "\n",
       "    .dataframe thead th {\n",
       "        text-align: right;\n",
       "    }\n",
       "</style>\n",
       "<table border=\"1\" class=\"dataframe\">\n",
       "  <thead>\n",
       "    <tr style=\"text-align: right;\">\n",
       "      <th></th>\n",
       "      <th>District</th>\n",
       "      <th>L_area</th>\n",
       "      <th>PropertyType</th>\n",
       "      <th>MainMaterial</th>\n",
       "      <th>B_area</th>\n",
       "      <th>Rooms</th>\n",
       "      <th>LivingR</th>\n",
       "      <th>BathR</th>\n",
       "      <th>Management</th>\n",
       "      <th>Price</th>\n",
       "      <th>price_per_area</th>\n",
       "    </tr>\n",
       "  </thead>\n",
       "  <tbody>\n",
       "    <tr>\n",
       "      <th>0</th>\n",
       "      <td>三峽區</td>\n",
       "      <td>25.04</td>\n",
       "      <td>住宅大樓</td>\n",
       "      <td>鋼筋混凝土造</td>\n",
       "      <td>195.33</td>\n",
       "      <td>4.0</td>\n",
       "      <td>2.0</td>\n",
       "      <td>2.0</td>\n",
       "      <td>1</td>\n",
       "      <td>11750000.0</td>\n",
       "      <td>60154.610147</td>\n",
       "    </tr>\n",
       "    <tr>\n",
       "      <th>1</th>\n",
       "      <td>三峽區</td>\n",
       "      <td>28.92</td>\n",
       "      <td>華廈</td>\n",
       "      <td>鋼筋混凝土造</td>\n",
       "      <td>131.60</td>\n",
       "      <td>3.0</td>\n",
       "      <td>2.0</td>\n",
       "      <td>2.0</td>\n",
       "      <td>1</td>\n",
       "      <td>6300000.0</td>\n",
       "      <td>47872.340426</td>\n",
       "    </tr>\n",
       "    <tr>\n",
       "      <th>2</th>\n",
       "      <td>三峽區</td>\n",
       "      <td>11.05</td>\n",
       "      <td>住宅大樓</td>\n",
       "      <td>鋼筋混凝土造</td>\n",
       "      <td>75.22</td>\n",
       "      <td>2.0</td>\n",
       "      <td>1.0</td>\n",
       "      <td>1.0</td>\n",
       "      <td>1</td>\n",
       "      <td>3850000.0</td>\n",
       "      <td>51183.195959</td>\n",
       "    </tr>\n",
       "    <tr>\n",
       "      <th>3</th>\n",
       "      <td>三峽區</td>\n",
       "      <td>41.99</td>\n",
       "      <td>華廈</td>\n",
       "      <td>鋼筋混凝土造</td>\n",
       "      <td>183.16</td>\n",
       "      <td>4.0</td>\n",
       "      <td>2.0</td>\n",
       "      <td>2.0</td>\n",
       "      <td>1</td>\n",
       "      <td>10800000.0</td>\n",
       "      <td>58964.839485</td>\n",
       "    </tr>\n",
       "    <tr>\n",
       "      <th>4</th>\n",
       "      <td>三峽區</td>\n",
       "      <td>27.10</td>\n",
       "      <td>住宅大樓</td>\n",
       "      <td>鋼筋混凝土造</td>\n",
       "      <td>186.50</td>\n",
       "      <td>3.0</td>\n",
       "      <td>2.0</td>\n",
       "      <td>2.0</td>\n",
       "      <td>1</td>\n",
       "      <td>11000000.0</td>\n",
       "      <td>58981.233244</td>\n",
       "    </tr>\n",
       "  </tbody>\n",
       "</table>\n",
       "</div>"
      ],
      "text/plain": [
       "  District  L_area PropertyType MainMaterial  B_area  Rooms  LivingR  BathR  \\\n",
       "0      三峽區   25.04         住宅大樓       鋼筋混凝土造  195.33    4.0      2.0    2.0   \n",
       "1      三峽區   28.92           華廈       鋼筋混凝土造  131.60    3.0      2.0    2.0   \n",
       "2      三峽區   11.05         住宅大樓       鋼筋混凝土造   75.22    2.0      1.0    1.0   \n",
       "3      三峽區   41.99           華廈       鋼筋混凝土造  183.16    4.0      2.0    2.0   \n",
       "4      三峽區   27.10         住宅大樓       鋼筋混凝土造  186.50    3.0      2.0    2.0   \n",
       "\n",
       "   Management       Price  price_per_area  \n",
       "0           1  11750000.0    60154.610147  \n",
       "1           1   6300000.0    47872.340426  \n",
       "2           1   3850000.0    51183.195959  \n",
       "3           1  10800000.0    58964.839485  \n",
       "4           1  11000000.0    58981.233244  "
      ]
     },
     "execution_count": 79,
     "metadata": {},
     "output_type": "execute_result"
    }
   ],
   "source": [
    "df13.head()"
   ]
  },
  {
   "cell_type": "code",
   "execution_count": 80,
   "id": "29f1df39",
   "metadata": {},
   "outputs": [],
   "source": [
    "df13 = df13.drop(columns=['price_per_area'])"
   ]
  },
  {
   "cell_type": "code",
   "execution_count": 81,
   "id": "5d9be57d",
   "metadata": {},
   "outputs": [],
   "source": [
    "df13.to_csv('housepropertydata_rework_v1.csv')"
   ]
  },
  {
   "cell_type": "code",
   "execution_count": 82,
   "id": "d3abfc29",
   "metadata": {},
   "outputs": [
    {
     "data": {
      "text/plain": [
       "Index(['District', 'L_area', 'PropertyType', 'MainMaterial', 'B_area', 'Rooms',\n",
       "       'LivingR', 'BathR', 'Management', 'Price'],\n",
       "      dtype='object')"
      ]
     },
     "execution_count": 82,
     "metadata": {},
     "output_type": "execute_result"
    }
   ],
   "source": [
    "df13.columns"
   ]
  },
  {
   "cell_type": "code",
   "execution_count": 83,
   "id": "4e324b66",
   "metadata": {},
   "outputs": [],
   "source": [
    "df13_num = df13[['L_area','B_area','Rooms','LivingR','BathR','Price']]\n",
    "df13_cat = df13[['District','PropertyType','MainMaterial','Management']]"
   ]
  },
  {
   "cell_type": "code",
   "execution_count": 84,
   "id": "1c574e7a",
   "metadata": {},
   "outputs": [
    {
     "data": {
      "image/png": "[encoded data removed]",
      "text/plain": [
       "<Figure size 432x288 with 1 Axes>"
      ]
     },
     "metadata": {
      "needs_background": "light"
     },
     "output_type": "display_data"
    },
    {
     "data": {
      "image/png": "[encoded data removed]",
      "text/plain": [
       "<Figure size 432x288 with 1 Axes>"
      ]
     },
     "metadata": {
      "needs_background": "light"
     },
     "output_type": "display_data"
    },
    {
     "data": {
      "image/png": "[encoded data removed]",
      "text/plain": [
       "<Figure size 432x288 with 1 Axes>"
      ]
     },
     "metadata": {
      "needs_background": "light"
     },
     "output_type": "display_data"
    },
    {
     "data": {
      "image/png": "[encoded data removed]",
      "text/plain": [
       "<Figure size 432x288 with 1 Axes>"
      ]
     },
     "metadata": {
      "needs_background": "light"
     },
     "output_type": "display_data"
    },
    {
     "data": {
      "image/png": "[encoded data removed]",
      "text/plain": [
       "<Figure size 432x288 with 1 Axes>"
      ]
     },
     "metadata": {
      "needs_background": "light"
     },
     "output_type": "display_data"
    },
    {
     "data": {
      "image/png": "[encoded data removed]",
      "text/plain": [
       "<Figure size 432x288 with 1 Axes>"
      ]
     },
     "metadata": {
      "needs_background": "light"
     },
     "output_type": "display_data"
    }
   ],
   "source": [
    "for i in df13_num.columns:\n",
    "    counts, edges, bars = plt.hist(df13_num[i])\n",
    "    plt.bar_label(bars)\n",
    "    plt.title(i)\n",
    "    plt.show()"
   ]
  },
  {
   "cell_type": "code",
   "execution_count": 85,
   "id": "28235268",
   "metadata": {},
   "outputs": [
    {
     "data": {
      "image/png": "[encoded data removed]",
      "text/plain": [
       "<Figure size 432x288 with 2 Axes>"
      ]
     },
     "metadata": {
      "needs_background": "light"
     },
     "output_type": "display_data"
    }
   ],
   "source": [
    "import seaborn as sns\n",
    "\n",
    "\n",
    "sns.heatmap(df13_num.corr(),annot=True, cmap=\"Blues\")\n",
    "plt.show()"
   ]
  },
  {
   "cell_type": "code",
   "execution_count": 86,
   "id": "b36b5fb7",
   "metadata": {},
   "outputs": [],
   "source": [
    "import warnings\n",
    "warnings.filterwarnings('ignore')"
   ]
  },
  {
   "cell_type": "code",
   "execution_count": 87,
   "id": "8c5356ae",
   "metadata": {},
   "outputs": [
    {
     "data": {
      "image/png": "[encoded data removed]",
      "text/plain": [
       "<Figure size 432x288 with 1 Axes>"
      ]
     },
     "metadata": {
      "needs_background": "light"
     },
     "output_type": "display_data"
    },
    {
     "data": {
      "image/png": "[encoded data removed]",
      "text/plain": [
       "<Figure size 432x288 with 1 Axes>"
      ]
     },
     "metadata": {
      "needs_background": "light"
     },
     "output_type": "display_data"
    },
    {
     "data": {
      "image/png": "[encoded data removed]",
      "text/plain": [
       "<Figure size 432x288 with 1 Axes>"
      ]
     },
     "metadata": {
      "needs_background": "light"
     },
     "output_type": "display_data"
    },
    {
     "data": {
      "image/png": "[encoded data removed]",
      "text/plain": [
       "<Figure size 432x288 with 1 Axes>"
      ]
     },
     "metadata": {
      "needs_background": "light"
     },
     "output_type": "display_data"
    }
   ],
   "source": [
    "for i in df13_cat.columns:\n",
    "    sns.boxplot(x=i, y=\"Price\", data=df13[['Price',i]])\n",
    "    plt.show()"
   ]
  },
  {
   "cell_type": "code",
   "execution_count": 88,
   "id": "957fc7e8",
   "metadata": {},
   "outputs": [
    {
     "data": {
      "image/png": "[encoded data removed]",
      "text/plain": [
       "<Figure size 432x288 with 1 Axes>"
      ]
     },
     "metadata": {
      "needs_background": "light"
     },
     "output_type": "display_data"
    },
    {
     "data": {
      "image/png": "[encoded data removed]",
      "text/plain": [
       "<Figure size 432x288 with 1 Axes>"
      ]
     },
     "metadata": {
      "needs_background": "light"
     },
     "output_type": "display_data"
    },
    {
     "data": {
      "image/png": "[encoded data removed]",
      "text/plain": [
       "<Figure size 432x288 with 1 Axes>"
      ]
     },
     "metadata": {
      "needs_background": "light"
     },
     "output_type": "display_data"
    },
    {
     "data": {
      "image/png": "[encoded data removed]",
      "text/plain": [
       "<Figure size 432x288 with 1 Axes>"
      ]
     },
     "metadata": {
      "needs_background": "light"
     },
     "output_type": "display_data"
    }
   ],
   "source": [
    "for i in df13_cat.columns:\n",
    "    counts, edges, bars = plt.hist(df13_cat[i])\n",
    "    plt.bar_label(bars)\n",
    "    plt.title(i)\n",
    "    plt.show()"
   ]
  },
  {
   "cell_type": "code",
   "execution_count": null,
   "id": "ece80032",
   "metadata": {},
   "outputs": [],
   "source": []
  }
 ],
 "metadata": {
  "kernelspec": {
   "display_name": "Python 3 (ipykernel)",
   "language": "python",
   "name": "python3"
  },
  "language_info": {
   "codemirror_mode": {
    "name": "ipython",
    "version": 3
   },
   "file_extension": ".py",
   "mimetype": "text/x-python",
   "name": "python",
   "nbconvert_exporter": "python",
   "pygments_lexer": "ipython3",
   "version": "3.9.5"
  }
 },
 "nbformat": 4,
 "nbformat_minor": 5
}
