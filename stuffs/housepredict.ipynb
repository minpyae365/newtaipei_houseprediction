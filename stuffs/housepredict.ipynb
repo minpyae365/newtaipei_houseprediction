{
 "cells": [
  {
   "cell_type": "code",
   "execution_count": 3,
   "id": "a9cedcbf",
   "metadata": {},
   "outputs": [],
   "source": [
    "import pandas as pd"
   ]
  },
  {
   "cell_type": "code",
   "execution_count": 6,
   "id": "8ca574e1",
   "metadata": {},
   "outputs": [],
   "source": [
    "path = 'C:/Users/trmyi/Desktop/AI_class/project/house_prediction/'"
   ]
  },
  {
   "cell_type": "code",
   "execution_count": 7,
   "id": "b5b69279",
   "metadata": {},
   "outputs": [],
   "source": [
    "df = pd.read_csv(path+'不動產實價登錄資訊-買賣案件-101年.csv')"
   ]
  },
  {
   "cell_type": "code",
   "execution_count": 9,
   "id": "cb34c17c",
   "metadata": {},
   "outputs": [],
   "source": [
    "#https://data.gov.tw/dataset/137371 READ DESCRIPTIONS OF COLUMNS"
   ]
  },
  {
   "cell_type": "code",
   "execution_count": 10,
   "id": "eb7e7395",
   "metadata": {},
   "outputs": [],
   "source": []
  },
  {
   "cell_type": "code",
   "execution_count": 8,
   "id": "a7220b22",
   "metadata": {},
   "outputs": [
    {
     "data": {
      "text/html": [
       "<div>\n",
       "<style scoped>\n",
       "    .dataframe tbody tr th:only-of-type {\n",
       "        vertical-align: middle;\n",
       "    }\n",
       "\n",
       "    .dataframe tbody tr th {\n",
       "        vertical-align: top;\n",
       "    }\n",
       "\n",
       "    .dataframe thead th {\n",
       "        text-align: right;\n",
       "    }\n",
       "</style>\n",
       "<table border=\"1\" class=\"dataframe\">\n",
       "  <thead>\n",
       "    <tr style=\"text-align: right;\">\n",
       "      <th></th>\n",
       "      <th>district</th>\n",
       "      <th>rps01</th>\n",
       "      <th>rps02</th>\n",
       "      <th>rps03</th>\n",
       "      <th>rps04</th>\n",
       "      <th>rps05</th>\n",
       "      <th>rps06</th>\n",
       "      <th>rps07</th>\n",
       "      <th>rps08</th>\n",
       "      <th>rps09</th>\n",
       "      <th>...</th>\n",
       "      <th>rps18</th>\n",
       "      <th>rps19</th>\n",
       "      <th>rps20</th>\n",
       "      <th>rps21</th>\n",
       "      <th>rps22</th>\n",
       "      <th>rps23</th>\n",
       "      <th>rps24</th>\n",
       "      <th>rps25</th>\n",
       "      <th>rps26</th>\n",
       "      <th>rps27</th>\n",
       "    </tr>\n",
       "  </thead>\n",
       "  <tbody>\n",
       "    <tr>\n",
       "      <th>0</th>\n",
       "      <td>中和區</td>\n",
       "      <td>房地(土地+建物)</td>\n",
       "      <td>新北市中和區中安街40巷1~30號</td>\n",
       "      <td>12.54</td>\n",
       "      <td>住</td>\n",
       "      <td>NaN</td>\n",
       "      <td>NaN</td>\n",
       "      <td>1010518.0</td>\n",
       "      <td>土地2建物1車位0</td>\n",
       "      <td>六層</td>\n",
       "      <td>...</td>\n",
       "      <td>2.0</td>\n",
       "      <td>有</td>\n",
       "      <td>有</td>\n",
       "      <td>13900000.0</td>\n",
       "      <td>155047.0</td>\n",
       "      <td>NaN</td>\n",
       "      <td>0.00</td>\n",
       "      <td>0.0</td>\n",
       "      <td>地政士僅受託買賣案件申請登記，並無代理撰擬不動產買賣契約書，係由不動產經紀業或權利人自行提供...</td>\n",
       "      <td>RPOPMLOJKHIFFHF87CA</td>\n",
       "    </tr>\n",
       "    <tr>\n",
       "      <th>1</th>\n",
       "      <td>新店區</td>\n",
       "      <td>房地(土地+建物)</td>\n",
       "      <td>新北市新店區玫瑰路58巷1~30號</td>\n",
       "      <td>33.32</td>\n",
       "      <td>住</td>\n",
       "      <td>NaN</td>\n",
       "      <td>NaN</td>\n",
       "      <td>1010711.0</td>\n",
       "      <td>土地3建物1車位0</td>\n",
       "      <td>四層</td>\n",
       "      <td>...</td>\n",
       "      <td>2.0</td>\n",
       "      <td>有</td>\n",
       "      <td>有</td>\n",
       "      <td>5000000.0</td>\n",
       "      <td>48445.0</td>\n",
       "      <td>NaN</td>\n",
       "      <td>0.00</td>\n",
       "      <td>0.0</td>\n",
       "      <td>NaN</td>\n",
       "      <td>RPROMLMLQHHFFCF28EA</td>\n",
       "    </tr>\n",
       "    <tr>\n",
       "      <th>2</th>\n",
       "      <td>中和區</td>\n",
       "      <td>房地(土地+建物)</td>\n",
       "      <td>新北市中和區員山路423巷14弄1~30號</td>\n",
       "      <td>23.11</td>\n",
       "      <td>住</td>\n",
       "      <td>NaN</td>\n",
       "      <td>NaN</td>\n",
       "      <td>1010708.0</td>\n",
       "      <td>土地1建物1車位0</td>\n",
       "      <td>三層</td>\n",
       "      <td>...</td>\n",
       "      <td>1.0</td>\n",
       "      <td>有</td>\n",
       "      <td>無</td>\n",
       "      <td>4500000.0</td>\n",
       "      <td>78125.0</td>\n",
       "      <td>NaN</td>\n",
       "      <td>0.00</td>\n",
       "      <td>0.0</td>\n",
       "      <td>NaN</td>\n",
       "      <td>RPQNMLRLQHHFFHF88CA</td>\n",
       "    </tr>\n",
       "    <tr>\n",
       "      <th>3</th>\n",
       "      <td>深坑區</td>\n",
       "      <td>房地(土地+建物)+車位</td>\n",
       "      <td>新北市深坑區翠谷街31~60號</td>\n",
       "      <td>35.10</td>\n",
       "      <td>其他</td>\n",
       "      <td>鄉村區</td>\n",
       "      <td>乙種建築用地</td>\n",
       "      <td>1010722.0</td>\n",
       "      <td>土地1建物1車位1</td>\n",
       "      <td>五層</td>\n",
       "      <td>...</td>\n",
       "      <td>2.0</td>\n",
       "      <td>有</td>\n",
       "      <td>無</td>\n",
       "      <td>6100000.0</td>\n",
       "      <td>40231.0</td>\n",
       "      <td>坡道平面</td>\n",
       "      <td>0.00</td>\n",
       "      <td>0.0</td>\n",
       "      <td>NaN</td>\n",
       "      <td>RPUNMLNKQHHFFCF28CA</td>\n",
       "    </tr>\n",
       "    <tr>\n",
       "      <th>4</th>\n",
       "      <td>汐止區</td>\n",
       "      <td>車位</td>\n",
       "      <td>新北市汐止區大同路二段211~240號</td>\n",
       "      <td>0.67</td>\n",
       "      <td>住</td>\n",
       "      <td>NaN</td>\n",
       "      <td>NaN</td>\n",
       "      <td>1010702.0</td>\n",
       "      <td>土地0建物0車位1</td>\n",
       "      <td>NaN</td>\n",
       "      <td>...</td>\n",
       "      <td>0.0</td>\n",
       "      <td>有</td>\n",
       "      <td>有</td>\n",
       "      <td>1650000.0</td>\n",
       "      <td>NaN</td>\n",
       "      <td>其他</td>\n",
       "      <td>19.76</td>\n",
       "      <td>1650000.0</td>\n",
       "      <td>NaN</td>\n",
       "      <td>RPQNMLRJQHHFFDF28CA</td>\n",
       "    </tr>\n",
       "  </tbody>\n",
       "</table>\n",
       "<p>5 rows × 28 columns</p>\n",
       "</div>"
      ],
      "text/plain": [
       "  district         rps01                  rps02  rps03 rps04 rps05   rps06  \\\n",
       "0      中和區     房地(土地+建物)      新北市中和區中安街40巷1~30號  12.54     住   NaN     NaN   \n",
       "1      新店區     房地(土地+建物)      新北市新店區玫瑰路58巷1~30號  33.32     住   NaN     NaN   \n",
       "2      中和區     房地(土地+建物)  新北市中和區員山路423巷14弄1~30號  23.11     住   NaN     NaN   \n",
       "3      深坑區  房地(土地+建物)+車位        新北市深坑區翠谷街31~60號  35.10    其他   鄉村區  乙種建築用地   \n",
       "4      汐止區            車位    新北市汐止區大同路二段211~240號   0.67     住   NaN     NaN   \n",
       "\n",
       "       rps07      rps08 rps09  ... rps18 rps19 rps20       rps21     rps22  \\\n",
       "0  1010518.0  土地2建物1車位0    六層  ...   2.0     有     有  13900000.0  155047.0   \n",
       "1  1010711.0  土地3建物1車位0    四層  ...   2.0     有     有   5000000.0   48445.0   \n",
       "2  1010708.0  土地1建物1車位0    三層  ...   1.0     有     無   4500000.0   78125.0   \n",
       "3  1010722.0  土地1建物1車位1    五層  ...   2.0     有     無   6100000.0   40231.0   \n",
       "4  1010702.0  土地0建物0車位1   NaN  ...   0.0     有     有   1650000.0       NaN   \n",
       "\n",
       "   rps23  rps24      rps25                                              rps26  \\\n",
       "0    NaN   0.00        0.0  地政士僅受託買賣案件申請登記，並無代理撰擬不動產買賣契約書，係由不動產經紀業或權利人自行提供...   \n",
       "1    NaN   0.00        0.0                                                NaN   \n",
       "2    NaN   0.00        0.0                                                NaN   \n",
       "3   坡道平面   0.00        0.0                                                NaN   \n",
       "4     其他  19.76  1650000.0                                                NaN   \n",
       "\n",
       "                 rps27  \n",
       "0  RPOPMLOJKHIFFHF87CA  \n",
       "1  RPROMLMLQHHFFCF28EA  \n",
       "2  RPQNMLRLQHHFFHF88CA  \n",
       "3  RPUNMLNKQHHFFCF28CA  \n",
       "4  RPQNMLRJQHHFFDF28CA  \n",
       "\n",
       "[5 rows x 28 columns]"
      ]
     },
     "execution_count": 8,
     "metadata": {},
     "output_type": "execute_result"
    }
   ],
   "source": [
    "df.head()"
   ]
  },
  {
   "cell_type": "code",
   "execution_count": null,
   "id": "31d14be0",
   "metadata": {},
   "outputs": [],
   "source": [
    "df['SalePrice'].describe()"
   ]
  },
  {
   "cell_type": "code",
   "execution_count": 13,
   "id": "c5e6a96e",
   "metadata": {},
   "outputs": [
    {
     "data": {
      "text/plain": [
       "\"date='2/xc2/xb2',time='/case/test.png'\""
      ]
     },
     "execution_count": 13,
     "metadata": {},
     "output_type": "execute_result"
    }
   ],
   "source": [
    " import re\n",
    "s = 'abcde(date=\\'2/xc2/xb2\\',time=\\'/case/test.png\\')'\n",
    "re.search(r'\\((.*?)\\)',s).group(1)"
   ]
  },
  {
   "cell_type": "code",
   "execution_count": 14,
   "id": "62d51b0c",
   "metadata": {},
   "outputs": [
    {
     "data": {
      "text/plain": [
       "'鄉鎮市區'"
      ]
     },
     "execution_count": 14,
     "metadata": {},
     "output_type": "execute_result"
    }
   ],
   "source": [
    "t = 'district(鄉鎮市區)'\n",
    "re.search(r'\\((.*?)\\)',t).group(1)"
   ]
  },
  {
   "cell_type": "code",
   "execution_count": 15,
   "id": "5733676c",
   "metadata": {},
   "outputs": [],
   "source": [
    "description = 'district(鄉鎮市區)、rps01(交易標的)、rps02(土地區段位置建物區段門牌)、rps03(土地移轉總面積平方公尺)、rps04(都市土地使用分區)、rps05(非都市土地使用分區)、rps06(非都市土地使用編定)、rps07(交易年月日)、rps08(交易筆棟數)、rps09(移轉層次)、rps10(總樓層數)、rps11(建物型態)、rps12(主要用途)、rps13(主要建材)、rps14(建築完成年月)、rps15(建物移轉總面積平方公尺)、rps16(建物現況格局-房)、rps17(建物現況格局-廳)、rps18(建物現況格局-衛)、rps19(建物現況格局-隔間)、rps20(有無管理組織)、rps21(總價元)、rps22(單價元平方公尺)、rps23(車位類別)、rps24(車位移轉總面積平方公尺)、rps25(車位總價元)、rps26(備註)、rps27(編號)'"
   ]
  },
  {
   "cell_type": "code",
   "execution_count": 22,
   "id": "3e98743f",
   "metadata": {},
   "outputs": [],
   "source": [
    "d_split = description.split('、')"
   ]
  },
  {
   "cell_type": "code",
   "execution_count": 23,
   "id": "445461f3",
   "metadata": {},
   "outputs": [
    {
     "data": {
      "text/plain": [
       "['district(鄉鎮市區)',\n",
       " 'rps01(交易標的)',\n",
       " 'rps02(土地區段位置建物區段門牌)',\n",
       " 'rps03(土地移轉總面積平方公尺)',\n",
       " 'rps04(都市土地使用分區)',\n",
       " 'rps05(非都市土地使用分區)',\n",
       " 'rps06(非都市土地使用編定)',\n",
       " 'rps07(交易年月日)',\n",
       " 'rps08(交易筆棟數)',\n",
       " 'rps09(移轉層次)',\n",
       " 'rps10(總樓層數)',\n",
       " 'rps11(建物型態)',\n",
       " 'rps12(主要用途)',\n",
       " 'rps13(主要建材)',\n",
       " 'rps14(建築完成年月)',\n",
       " 'rps15(建物移轉總面積平方公尺)',\n",
       " 'rps16(建物現況格局-房)',\n",
       " 'rps17(建物現況格局-廳)',\n",
       " 'rps18(建物現況格局-衛)',\n",
       " 'rps19(建物現況格局-隔間)',\n",
       " 'rps20(有無管理組織)',\n",
       " 'rps21(總價元)',\n",
       " 'rps22(單價元平方公尺)',\n",
       " 'rps23(車位類別)',\n",
       " 'rps24(車位移轉總面積平方公尺)',\n",
       " 'rps25(車位總價元)',\n",
       " 'rps26(備註)',\n",
       " 'rps27(編號)']"
      ]
     },
     "execution_count": 23,
     "metadata": {},
     "output_type": "execute_result"
    }
   ],
   "source": [
    "d_split"
   ]
  },
  {
   "cell_type": "code",
   "execution_count": 25,
   "id": "3847b354",
   "metadata": {},
   "outputs": [],
   "source": [
    "d_list = []\n",
    "\n",
    "for i in d_split:\n",
    "    d_list.append(re.search(r'\\((.*?)\\)',i).group(1))"
   ]
  },
  {
   "cell_type": "code",
   "execution_count": 26,
   "id": "e3d8f378",
   "metadata": {},
   "outputs": [
    {
     "data": {
      "text/plain": [
       "['鄉鎮市區',\n",
       " '交易標的',\n",
       " '土地區段位置建物區段門牌',\n",
       " '土地移轉總面積平方公尺',\n",
       " '都市土地使用分區',\n",
       " '非都市土地使用分區',\n",
       " '非都市土地使用編定',\n",
       " '交易年月日',\n",
       " '交易筆棟數',\n",
       " '移轉層次',\n",
       " '總樓層數',\n",
       " '建物型態',\n",
       " '主要用途',\n",
       " '主要建材',\n",
       " '建築完成年月',\n",
       " '建物移轉總面積平方公尺',\n",
       " '建物現況格局-房',\n",
       " '建物現況格局-廳',\n",
       " '建物現況格局-衛',\n",
       " '建物現況格局-隔間',\n",
       " '有無管理組織',\n",
       " '總價元',\n",
       " '單價元平方公尺',\n",
       " '車位類別',\n",
       " '車位移轉總面積平方公尺',\n",
       " '車位總價元',\n",
       " '備註',\n",
       " '編號']"
      ]
     },
     "execution_count": 26,
     "metadata": {},
     "output_type": "execute_result"
    }
   ],
   "source": [
    "d_list"
   ]
  },
  {
   "cell_type": "code",
   "execution_count": 33,
   "id": "c1fdb86b",
   "metadata": {},
   "outputs": [
    {
     "data": {
      "text/plain": [
       "['district',\n",
       " 'rps01',\n",
       " 'rps02',\n",
       " 'rps03',\n",
       " 'rps04',\n",
       " 'rps05',\n",
       " 'rps06',\n",
       " 'rps07',\n",
       " 'rps08',\n",
       " 'rps09',\n",
       " 'rps10',\n",
       " 'rps11',\n",
       " 'rps12',\n",
       " 'rps13',\n",
       " 'rps14',\n",
       " 'rps15',\n",
       " 'rps16',\n",
       " 'rps17',\n",
       " 'rps18',\n",
       " 'rps19',\n",
       " 'rps20',\n",
       " 'rps21',\n",
       " 'rps22',\n",
       " 'rps23',\n",
       " 'rps24',\n",
       " 'rps25',\n",
       " 'rps26',\n",
       " 'rps27']"
      ]
     },
     "execution_count": 33,
     "metadata": {},
     "output_type": "execute_result"
    }
   ],
   "source": [
    "des1 = list(df.columns)\n",
    "des1"
   ]
  },
  {
   "cell_type": "code",
   "execution_count": 34,
   "id": "b564114c",
   "metadata": {},
   "outputs": [],
   "source": [
    "df.rename(\n",
    "    columns={i:j for i,j in zip(des1,d_list)}, inplace=True\n",
    ")"
   ]
  },
  {
   "cell_type": "code",
   "execution_count": 35,
   "id": "18ef9820",
   "metadata": {},
   "outputs": [
    {
     "data": {
      "text/html": [
       "<div>\n",
       "<style scoped>\n",
       "    .dataframe tbody tr th:only-of-type {\n",
       "        vertical-align: middle;\n",
       "    }\n",
       "\n",
       "    .dataframe tbody tr th {\n",
       "        vertical-align: top;\n",
       "    }\n",
       "\n",
       "    .dataframe thead th {\n",
       "        text-align: right;\n",
       "    }\n",
       "</style>\n",
       "<table border=\"1\" class=\"dataframe\">\n",
       "  <thead>\n",
       "    <tr style=\"text-align: right;\">\n",
       "      <th></th>\n",
       "      <th>鄉鎮市區</th>\n",
       "      <th>交易標的</th>\n",
       "      <th>土地區段位置建物區段門牌</th>\n",
       "      <th>土地移轉總面積平方公尺</th>\n",
       "      <th>都市土地使用分區</th>\n",
       "      <th>非都市土地使用分區</th>\n",
       "      <th>非都市土地使用編定</th>\n",
       "      <th>交易年月日</th>\n",
       "      <th>交易筆棟數</th>\n",
       "      <th>移轉層次</th>\n",
       "      <th>...</th>\n",
       "      <th>建物現況格局-衛</th>\n",
       "      <th>建物現況格局-隔間</th>\n",
       "      <th>有無管理組織</th>\n",
       "      <th>總價元</th>\n",
       "      <th>單價元平方公尺</th>\n",
       "      <th>車位類別</th>\n",
       "      <th>車位移轉總面積平方公尺</th>\n",
       "      <th>車位總價元</th>\n",
       "      <th>備註</th>\n",
       "      <th>編號</th>\n",
       "    </tr>\n",
       "  </thead>\n",
       "  <tbody>\n",
       "    <tr>\n",
       "      <th>0</th>\n",
       "      <td>中和區</td>\n",
       "      <td>房地(土地+建物)</td>\n",
       "      <td>新北市中和區中安街40巷1~30號</td>\n",
       "      <td>12.54</td>\n",
       "      <td>住</td>\n",
       "      <td>NaN</td>\n",
       "      <td>NaN</td>\n",
       "      <td>1010518.0</td>\n",
       "      <td>土地2建物1車位0</td>\n",
       "      <td>六層</td>\n",
       "      <td>...</td>\n",
       "      <td>2.0</td>\n",
       "      <td>有</td>\n",
       "      <td>有</td>\n",
       "      <td>13900000.0</td>\n",
       "      <td>155047.0</td>\n",
       "      <td>NaN</td>\n",
       "      <td>0.00</td>\n",
       "      <td>0.0</td>\n",
       "      <td>地政士僅受託買賣案件申請登記，並無代理撰擬不動產買賣契約書，係由不動產經紀業或權利人自行提供...</td>\n",
       "      <td>RPOPMLOJKHIFFHF87CA</td>\n",
       "    </tr>\n",
       "    <tr>\n",
       "      <th>1</th>\n",
       "      <td>新店區</td>\n",
       "      <td>房地(土地+建物)</td>\n",
       "      <td>新北市新店區玫瑰路58巷1~30號</td>\n",
       "      <td>33.32</td>\n",
       "      <td>住</td>\n",
       "      <td>NaN</td>\n",
       "      <td>NaN</td>\n",
       "      <td>1010711.0</td>\n",
       "      <td>土地3建物1車位0</td>\n",
       "      <td>四層</td>\n",
       "      <td>...</td>\n",
       "      <td>2.0</td>\n",
       "      <td>有</td>\n",
       "      <td>有</td>\n",
       "      <td>5000000.0</td>\n",
       "      <td>48445.0</td>\n",
       "      <td>NaN</td>\n",
       "      <td>0.00</td>\n",
       "      <td>0.0</td>\n",
       "      <td>NaN</td>\n",
       "      <td>RPROMLMLQHHFFCF28EA</td>\n",
       "    </tr>\n",
       "    <tr>\n",
       "      <th>2</th>\n",
       "      <td>中和區</td>\n",
       "      <td>房地(土地+建物)</td>\n",
       "      <td>新北市中和區員山路423巷14弄1~30號</td>\n",
       "      <td>23.11</td>\n",
       "      <td>住</td>\n",
       "      <td>NaN</td>\n",
       "      <td>NaN</td>\n",
       "      <td>1010708.0</td>\n",
       "      <td>土地1建物1車位0</td>\n",
       "      <td>三層</td>\n",
       "      <td>...</td>\n",
       "      <td>1.0</td>\n",
       "      <td>有</td>\n",
       "      <td>無</td>\n",
       "      <td>4500000.0</td>\n",
       "      <td>78125.0</td>\n",
       "      <td>NaN</td>\n",
       "      <td>0.00</td>\n",
       "      <td>0.0</td>\n",
       "      <td>NaN</td>\n",
       "      <td>RPQNMLRLQHHFFHF88CA</td>\n",
       "    </tr>\n",
       "    <tr>\n",
       "      <th>3</th>\n",
       "      <td>深坑區</td>\n",
       "      <td>房地(土地+建物)+車位</td>\n",
       "      <td>新北市深坑區翠谷街31~60號</td>\n",
       "      <td>35.10</td>\n",
       "      <td>其他</td>\n",
       "      <td>鄉村區</td>\n",
       "      <td>乙種建築用地</td>\n",
       "      <td>1010722.0</td>\n",
       "      <td>土地1建物1車位1</td>\n",
       "      <td>五層</td>\n",
       "      <td>...</td>\n",
       "      <td>2.0</td>\n",
       "      <td>有</td>\n",
       "      <td>無</td>\n",
       "      <td>6100000.0</td>\n",
       "      <td>40231.0</td>\n",
       "      <td>坡道平面</td>\n",
       "      <td>0.00</td>\n",
       "      <td>0.0</td>\n",
       "      <td>NaN</td>\n",
       "      <td>RPUNMLNKQHHFFCF28CA</td>\n",
       "    </tr>\n",
       "    <tr>\n",
       "      <th>4</th>\n",
       "      <td>汐止區</td>\n",
       "      <td>車位</td>\n",
       "      <td>新北市汐止區大同路二段211~240號</td>\n",
       "      <td>0.67</td>\n",
       "      <td>住</td>\n",
       "      <td>NaN</td>\n",
       "      <td>NaN</td>\n",
       "      <td>1010702.0</td>\n",
       "      <td>土地0建物0車位1</td>\n",
       "      <td>NaN</td>\n",
       "      <td>...</td>\n",
       "      <td>0.0</td>\n",
       "      <td>有</td>\n",
       "      <td>有</td>\n",
       "      <td>1650000.0</td>\n",
       "      <td>NaN</td>\n",
       "      <td>其他</td>\n",
       "      <td>19.76</td>\n",
       "      <td>1650000.0</td>\n",
       "      <td>NaN</td>\n",
       "      <td>RPQNMLRJQHHFFDF28CA</td>\n",
       "    </tr>\n",
       "  </tbody>\n",
       "</table>\n",
       "<p>5 rows × 28 columns</p>\n",
       "</div>"
      ],
      "text/plain": [
       "  鄉鎮市區          交易標的           土地區段位置建物區段門牌  土地移轉總面積平方公尺 都市土地使用分區 非都市土地使用分區  \\\n",
       "0  中和區     房地(土地+建物)      新北市中和區中安街40巷1~30號        12.54        住       NaN   \n",
       "1  新店區     房地(土地+建物)      新北市新店區玫瑰路58巷1~30號        33.32        住       NaN   \n",
       "2  中和區     房地(土地+建物)  新北市中和區員山路423巷14弄1~30號        23.11        住       NaN   \n",
       "3  深坑區  房地(土地+建物)+車位        新北市深坑區翠谷街31~60號        35.10       其他       鄉村區   \n",
       "4  汐止區            車位    新北市汐止區大同路二段211~240號         0.67        住       NaN   \n",
       "\n",
       "  非都市土地使用編定      交易年月日      交易筆棟數 移轉層次  ... 建物現況格局-衛 建物現況格局-隔間 有無管理組織  \\\n",
       "0       NaN  1010518.0  土地2建物1車位0   六層  ...      2.0         有      有   \n",
       "1       NaN  1010711.0  土地3建物1車位0   四層  ...      2.0         有      有   \n",
       "2       NaN  1010708.0  土地1建物1車位0   三層  ...      1.0         有      無   \n",
       "3    乙種建築用地  1010722.0  土地1建物1車位1   五層  ...      2.0         有      無   \n",
       "4       NaN  1010702.0  土地0建物0車位1  NaN  ...      0.0         有      有   \n",
       "\n",
       "          總價元   單價元平方公尺  車位類別  車位移轉總面積平方公尺      車位總價元  \\\n",
       "0  13900000.0  155047.0   NaN         0.00        0.0   \n",
       "1   5000000.0   48445.0   NaN         0.00        0.0   \n",
       "2   4500000.0   78125.0   NaN         0.00        0.0   \n",
       "3   6100000.0   40231.0  坡道平面         0.00        0.0   \n",
       "4   1650000.0       NaN    其他        19.76  1650000.0   \n",
       "\n",
       "                                                  備註                   編號  \n",
       "0  地政士僅受託買賣案件申請登記，並無代理撰擬不動產買賣契約書，係由不動產經紀業或權利人自行提供...  RPOPMLOJKHIFFHF87CA  \n",
       "1                                                NaN  RPROMLMLQHHFFCF28EA  \n",
       "2                                                NaN  RPQNMLRLQHHFFHF88CA  \n",
       "3                                                NaN  RPUNMLNKQHHFFCF28CA  \n",
       "4                                                NaN  RPQNMLRJQHHFFDF28CA  \n",
       "\n",
       "[5 rows x 28 columns]"
      ]
     },
     "execution_count": 35,
     "metadata": {},
     "output_type": "execute_result"
    }
   ],
   "source": [
    "df.head()"
   ]
  },
  {
   "cell_type": "code",
   "execution_count": 38,
   "id": "7fd84f58",
   "metadata": {},
   "outputs": [],
   "source": [
    "# Understand nature of the data .info() .describe()\n",
    "# Histograms and boxplots \n",
    "# Value counts \n",
    "# Missing data \n",
    "# Correlation between the metrics \n",
    "# Explore interesting themes \n",
    "\n",
    "# Feature engineering \n",
    "# preprocess data together or use a transformer? \n",
    "    # use label for train and test   \n",
    "# Scaling?\n",
    "\n",
    "# Model Baseline \n",
    "# Model comparison with CV "
   ]
  },
  {
   "cell_type": "markdown",
   "id": "f5827bc4",
   "metadata": {},
   "source": [
    "Light Data Exploration\n",
    "\n",
    "1) For numeric data\n",
    "\n",
    "-Made histograms to understand distributions\n",
    "-Corrplot\n",
    "-Pivot table comparing survival rate across numeric variables\n",
    "\n",
    "2) For Categorical Data\n",
    "\n",
    "-Made bar charts to understand balance of classes\n",
    "-Made pivot tables to understand relationship with survival"
   ]
  },
  {
   "cell_type": "code",
   "execution_count": 40,
   "id": "da4ad8b0",
   "metadata": {},
   "outputs": [
    {
     "name": "stdout",
     "output_type": "stream",
     "text": [
      "<class 'pandas.core.frame.DataFrame'>\n",
      "RangeIndex: 12986 entries, 0 to 12985\n",
      "Data columns (total 28 columns):\n",
      " #   Column        Non-Null Count  Dtype  \n",
      "---  ------        --------------  -----  \n",
      " 0   鄉鎮市區          12986 non-null  object \n",
      " 1   交易標的          12986 non-null  object \n",
      " 2   土地區段位置建物區段門牌  12986 non-null  object \n",
      " 3   土地移轉總面積平方公尺   12986 non-null  float64\n",
      " 4   都市土地使用分區      12754 non-null  object \n",
      " 5   非都市土地使用分區     694 non-null    object \n",
      " 6   非都市土地使用編定     692 non-null    object \n",
      " 7   交易年月日         12986 non-null  float64\n",
      " 8   交易筆棟數         12986 non-null  object \n",
      " 9   移轉層次          10970 non-null  object \n",
      " 10  總樓層數          10937 non-null  object \n",
      " 11  建物型態          12986 non-null  object \n",
      " 12  主要用途          10941 non-null  object \n",
      " 13  主要建材          10942 non-null  object \n",
      " 14  建築完成年月        10622 non-null  float64\n",
      " 15  建物移轉總面積平方公尺   12986 non-null  float64\n",
      " 16  建物現況格局-房      12986 non-null  float64\n",
      " 17  建物現況格局-廳      12986 non-null  float64\n",
      " 18  建物現況格局-衛      12986 non-null  float64\n",
      " 19  建物現況格局-隔間     12986 non-null  object \n",
      " 20  有無管理組織        12986 non-null  object \n",
      " 21  總價元           12986 non-null  float64\n",
      " 22  單價元平方公尺       12508 non-null  float64\n",
      " 23  車位類別          5263 non-null   object \n",
      " 24  車位移轉總面積平方公尺   12986 non-null  float64\n",
      " 25  車位總價元         12986 non-null  float64\n",
      " 26  備註            29 non-null     object \n",
      " 27  編號            12986 non-null  object \n",
      "dtypes: float64(11), object(17)\n",
      "memory usage: 2.8+ MB\n"
     ]
    }
   ],
   "source": [
    "df.info()"
   ]
  },
  {
   "cell_type": "code",
   "execution_count": 98,
   "id": "bfbcd89b",
   "metadata": {},
   "outputs": [
    {
     "data": {
      "text/plain": [
       "<AxesSubplot:>"
      ]
     },
     "execution_count": 98,
     "metadata": {},
     "output_type": "execute_result"
    },
    {
     "name": "stderr",
     "output_type": "stream",
     "text": [
      "c:\\users\\trmyi\\desktop\\ai_class\\project\\house_prediction\\lib\\site-packages\\IPython\\core\\pylabtools.py:151: UserWarning: Glyph 37117 (\\N{CJK UNIFIED IDEOGRAPH-90FD}) missing from current font.\n",
      "  fig.canvas.print_figure(bytes_io, **kw)\n",
      "c:\\users\\trmyi\\desktop\\ai_class\\project\\house_prediction\\lib\\site-packages\\IPython\\core\\pylabtools.py:151: UserWarning: Glyph 24066 (\\N{CJK UNIFIED IDEOGRAPH-5E02}) missing from current font.\n",
      "  fig.canvas.print_figure(bytes_io, **kw)\n",
      "c:\\users\\trmyi\\desktop\\ai_class\\project\\house_prediction\\lib\\site-packages\\IPython\\core\\pylabtools.py:151: UserWarning: Glyph 22303 (\\N{CJK UNIFIED IDEOGRAPH-571F}) missing from current font.\n",
      "  fig.canvas.print_figure(bytes_io, **kw)\n",
      "c:\\users\\trmyi\\desktop\\ai_class\\project\\house_prediction\\lib\\site-packages\\IPython\\core\\pylabtools.py:151: UserWarning: Glyph 22320 (\\N{CJK UNIFIED IDEOGRAPH-5730}) missing from current font.\n",
      "  fig.canvas.print_figure(bytes_io, **kw)\n",
      "c:\\users\\trmyi\\desktop\\ai_class\\project\\house_prediction\\lib\\site-packages\\IPython\\core\\pylabtools.py:151: UserWarning: Glyph 20351 (\\N{CJK UNIFIED IDEOGRAPH-4F7F}) missing from current font.\n",
      "  fig.canvas.print_figure(bytes_io, **kw)\n",
      "c:\\users\\trmyi\\desktop\\ai_class\\project\\house_prediction\\lib\\site-packages\\IPython\\core\\pylabtools.py:151: UserWarning: Glyph 29992 (\\N{CJK UNIFIED IDEOGRAPH-7528}) missing from current font.\n",
      "  fig.canvas.print_figure(bytes_io, **kw)\n",
      "c:\\users\\trmyi\\desktop\\ai_class\\project\\house_prediction\\lib\\site-packages\\IPython\\core\\pylabtools.py:151: UserWarning: Glyph 20998 (\\N{CJK UNIFIED IDEOGRAPH-5206}) missing from current font.\n",
      "  fig.canvas.print_figure(bytes_io, **kw)\n",
      "c:\\users\\trmyi\\desktop\\ai_class\\project\\house_prediction\\lib\\site-packages\\IPython\\core\\pylabtools.py:151: UserWarning: Glyph 21312 (\\N{CJK UNIFIED IDEOGRAPH-5340}) missing from current font.\n",
      "  fig.canvas.print_figure(bytes_io, **kw)\n",
      "c:\\users\\trmyi\\desktop\\ai_class\\project\\house_prediction\\lib\\site-packages\\IPython\\core\\pylabtools.py:151: UserWarning: Glyph 21934 (\\N{CJK UNIFIED IDEOGRAPH-55AE}) missing from current font.\n",
      "  fig.canvas.print_figure(bytes_io, **kw)\n",
      "c:\\users\\trmyi\\desktop\\ai_class\\project\\house_prediction\\lib\\site-packages\\IPython\\core\\pylabtools.py:151: UserWarning: Glyph 20729 (\\N{CJK UNIFIED IDEOGRAPH-50F9}) missing from current font.\n",
      "  fig.canvas.print_figure(bytes_io, **kw)\n",
      "c:\\users\\trmyi\\desktop\\ai_class\\project\\house_prediction\\lib\\site-packages\\IPython\\core\\pylabtools.py:151: UserWarning: Glyph 20803 (\\N{CJK UNIFIED IDEOGRAPH-5143}) missing from current font.\n",
      "  fig.canvas.print_figure(bytes_io, **kw)\n",
      "c:\\users\\trmyi\\desktop\\ai_class\\project\\house_prediction\\lib\\site-packages\\IPython\\core\\pylabtools.py:151: UserWarning: Glyph 24179 (\\N{CJK UNIFIED IDEOGRAPH-5E73}) missing from current font.\n",
      "  fig.canvas.print_figure(bytes_io, **kw)\n",
      "c:\\users\\trmyi\\desktop\\ai_class\\project\\house_prediction\\lib\\site-packages\\IPython\\core\\pylabtools.py:151: UserWarning: Glyph 26041 (\\N{CJK UNIFIED IDEOGRAPH-65B9}) missing from current font.\n",
      "  fig.canvas.print_figure(bytes_io, **kw)\n",
      "c:\\users\\trmyi\\desktop\\ai_class\\project\\house_prediction\\lib\\site-packages\\IPython\\core\\pylabtools.py:151: UserWarning: Glyph 20844 (\\N{CJK UNIFIED IDEOGRAPH-516C}) missing from current font.\n",
      "  fig.canvas.print_figure(bytes_io, **kw)\n",
      "c:\\users\\trmyi\\desktop\\ai_class\\project\\house_prediction\\lib\\site-packages\\IPython\\core\\pylabtools.py:151: UserWarning: Glyph 23610 (\\N{CJK UNIFIED IDEOGRAPH-5C3A}) missing from current font.\n",
      "  fig.canvas.print_figure(bytes_io, **kw)\n",
      "c:\\users\\trmyi\\desktop\\ai_class\\project\\house_prediction\\lib\\site-packages\\IPython\\core\\pylabtools.py:151: UserWarning: Glyph 31227 (\\N{CJK UNIFIED IDEOGRAPH-79FB}) missing from current font.\n",
      "  fig.canvas.print_figure(bytes_io, **kw)\n",
      "c:\\users\\trmyi\\desktop\\ai_class\\project\\house_prediction\\lib\\site-packages\\IPython\\core\\pylabtools.py:151: UserWarning: Glyph 36681 (\\N{CJK UNIFIED IDEOGRAPH-8F49}) missing from current font.\n",
      "  fig.canvas.print_figure(bytes_io, **kw)\n",
      "c:\\users\\trmyi\\desktop\\ai_class\\project\\house_prediction\\lib\\site-packages\\IPython\\core\\pylabtools.py:151: UserWarning: Glyph 23652 (\\N{CJK UNIFIED IDEOGRAPH-5C64}) missing from current font.\n",
      "  fig.canvas.print_figure(bytes_io, **kw)\n",
      "c:\\users\\trmyi\\desktop\\ai_class\\project\\house_prediction\\lib\\site-packages\\IPython\\core\\pylabtools.py:151: UserWarning: Glyph 27425 (\\N{CJK UNIFIED IDEOGRAPH-6B21}) missing from current font.\n",
      "  fig.canvas.print_figure(bytes_io, **kw)\n",
      "c:\\users\\trmyi\\desktop\\ai_class\\project\\house_prediction\\lib\\site-packages\\IPython\\core\\pylabtools.py:151: UserWarning: Glyph 20027 (\\N{CJK UNIFIED IDEOGRAPH-4E3B}) missing from current font.\n",
      "  fig.canvas.print_figure(bytes_io, **kw)\n",
      "c:\\users\\trmyi\\desktop\\ai_class\\project\\house_prediction\\lib\\site-packages\\IPython\\core\\pylabtools.py:151: UserWarning: Glyph 35201 (\\N{CJK UNIFIED IDEOGRAPH-8981}) missing from current font.\n",
      "  fig.canvas.print_figure(bytes_io, **kw)\n",
      "c:\\users\\trmyi\\desktop\\ai_class\\project\\house_prediction\\lib\\site-packages\\IPython\\core\\pylabtools.py:151: UserWarning: Glyph 24314 (\\N{CJK UNIFIED IDEOGRAPH-5EFA}) missing from current font.\n",
      "  fig.canvas.print_figure(bytes_io, **kw)\n",
      "c:\\users\\trmyi\\desktop\\ai_class\\project\\house_prediction\\lib\\site-packages\\IPython\\core\\pylabtools.py:151: UserWarning: Glyph 26448 (\\N{CJK UNIFIED IDEOGRAPH-6750}) missing from current font.\n",
      "  fig.canvas.print_figure(bytes_io, **kw)\n",
      "c:\\users\\trmyi\\desktop\\ai_class\\project\\house_prediction\\lib\\site-packages\\IPython\\core\\pylabtools.py:151: UserWarning: Glyph 36884 (\\N{CJK UNIFIED IDEOGRAPH-9014}) missing from current font.\n",
      "  fig.canvas.print_figure(bytes_io, **kw)\n",
      "c:\\users\\trmyi\\desktop\\ai_class\\project\\house_prediction\\lib\\site-packages\\IPython\\core\\pylabtools.py:151: UserWarning: Glyph 32317 (\\N{CJK UNIFIED IDEOGRAPH-7E3D}) missing from current font.\n",
      "  fig.canvas.print_figure(bytes_io, **kw)\n",
      "c:\\users\\trmyi\\desktop\\ai_class\\project\\house_prediction\\lib\\site-packages\\IPython\\core\\pylabtools.py:151: UserWarning: Glyph 27155 (\\N{CJK UNIFIED IDEOGRAPH-6A13}) missing from current font.\n",
      "  fig.canvas.print_figure(bytes_io, **kw)\n",
      "c:\\users\\trmyi\\desktop\\ai_class\\project\\house_prediction\\lib\\site-packages\\IPython\\core\\pylabtools.py:151: UserWarning: Glyph 25976 (\\N{CJK UNIFIED IDEOGRAPH-6578}) missing from current font.\n",
      "  fig.canvas.print_figure(bytes_io, **kw)\n",
      "c:\\users\\trmyi\\desktop\\ai_class\\project\\house_prediction\\lib\\site-packages\\IPython\\core\\pylabtools.py:151: UserWarning: Glyph 31689 (\\N{CJK UNIFIED IDEOGRAPH-7BC9}) missing from current font.\n",
      "  fig.canvas.print_figure(bytes_io, **kw)\n",
      "c:\\users\\trmyi\\desktop\\ai_class\\project\\house_prediction\\lib\\site-packages\\IPython\\core\\pylabtools.py:151: UserWarning: Glyph 23436 (\\N{CJK UNIFIED IDEOGRAPH-5B8C}) missing from current font.\n",
      "  fig.canvas.print_figure(bytes_io, **kw)\n",
      "c:\\users\\trmyi\\desktop\\ai_class\\project\\house_prediction\\lib\\site-packages\\IPython\\core\\pylabtools.py:151: UserWarning: Glyph 25104 (\\N{CJK UNIFIED IDEOGRAPH-6210}) missing from current font.\n",
      "  fig.canvas.print_figure(bytes_io, **kw)\n",
      "c:\\users\\trmyi\\desktop\\ai_class\\project\\house_prediction\\lib\\site-packages\\IPython\\core\\pylabtools.py:151: UserWarning: Glyph 24180 (\\N{CJK UNIFIED IDEOGRAPH-5E74}) missing from current font.\n",
      "  fig.canvas.print_figure(bytes_io, **kw)\n",
      "c:\\users\\trmyi\\desktop\\ai_class\\project\\house_prediction\\lib\\site-packages\\IPython\\core\\pylabtools.py:151: UserWarning: Glyph 26376 (\\N{CJK UNIFIED IDEOGRAPH-6708}) missing from current font.\n",
      "  fig.canvas.print_figure(bytes_io, **kw)\n",
      "c:\\users\\trmyi\\desktop\\ai_class\\project\\house_prediction\\lib\\site-packages\\IPython\\core\\pylabtools.py:151: UserWarning: Glyph 36554 (\\N{CJK UNIFIED IDEOGRAPH-8ECA}) missing from current font.\n",
      "  fig.canvas.print_figure(bytes_io, **kw)\n",
      "c:\\users\\trmyi\\desktop\\ai_class\\project\\house_prediction\\lib\\site-packages\\IPython\\core\\pylabtools.py:151: UserWarning: Glyph 20301 (\\N{CJK UNIFIED IDEOGRAPH-4F4D}) missing from current font.\n",
      "  fig.canvas.print_figure(bytes_io, **kw)\n",
      "c:\\users\\trmyi\\desktop\\ai_class\\project\\house_prediction\\lib\\site-packages\\IPython\\core\\pylabtools.py:151: UserWarning: Glyph 39006 (\\N{CJK UNIFIED IDEOGRAPH-985E}) missing from current font.\n",
      "  fig.canvas.print_figure(bytes_io, **kw)\n",
      "c:\\users\\trmyi\\desktop\\ai_class\\project\\house_prediction\\lib\\site-packages\\IPython\\core\\pylabtools.py:151: UserWarning: Glyph 21029 (\\N{CJK UNIFIED IDEOGRAPH-5225}) missing from current font.\n",
      "  fig.canvas.print_figure(bytes_io, **kw)\n",
      "c:\\users\\trmyi\\desktop\\ai_class\\project\\house_prediction\\lib\\site-packages\\IPython\\core\\pylabtools.py:151: UserWarning: Glyph 38750 (\\N{CJK UNIFIED IDEOGRAPH-975E}) missing from current font.\n",
      "  fig.canvas.print_figure(bytes_io, **kw)\n",
      "c:\\users\\trmyi\\desktop\\ai_class\\project\\house_prediction\\lib\\site-packages\\IPython\\core\\pylabtools.py:151: UserWarning: Glyph 32232 (\\N{CJK UNIFIED IDEOGRAPH-7DE8}) missing from current font.\n",
      "  fig.canvas.print_figure(bytes_io, **kw)\n",
      "c:\\users\\trmyi\\desktop\\ai_class\\project\\house_prediction\\lib\\site-packages\\IPython\\core\\pylabtools.py:151: UserWarning: Glyph 23450 (\\N{CJK UNIFIED IDEOGRAPH-5B9A}) missing from current font.\n",
      "  fig.canvas.print_figure(bytes_io, **kw)\n",
      "c:\\users\\trmyi\\desktop\\ai_class\\project\\house_prediction\\lib\\site-packages\\IPython\\core\\pylabtools.py:151: UserWarning: Glyph 20633 (\\N{CJK UNIFIED IDEOGRAPH-5099}) missing from current font.\n",
      "  fig.canvas.print_figure(bytes_io, **kw)\n",
      "c:\\users\\trmyi\\desktop\\ai_class\\project\\house_prediction\\lib\\site-packages\\IPython\\core\\pylabtools.py:151: UserWarning: Glyph 35387 (\\N{CJK UNIFIED IDEOGRAPH-8A3B}) missing from current font.\n",
      "  fig.canvas.print_figure(bytes_io, **kw)\n"
     ]
    },
    {
     "data": {
      "image/png": "[encoded data removed]",
      "text/plain": [
       "<Figure size 432x288 with 1 Axes>"
      ]
     },
     "metadata": {
      "needs_background": "light"
     },
     "output_type": "display_data"
    }
   ],
   "source": [
    "missing = df.isnull().sum()\n",
    "missing = missing[missing > 0]\n",
    "missing.sort_values(inplace=True)\n",
    "missing.plot.bar()"
   ]
  },
  {
   "cell_type": "code",
   "execution_count": 99,
   "id": "8d6e0a52",
   "metadata": {},
   "outputs": [
    {
     "data": {
      "text/plain": [
       "鄉鎮市區                0\n",
       "交易標的                0\n",
       "土地區段位置建物區段門牌        0\n",
       "土地移轉總面積平方公尺         0\n",
       "都市土地使用分區          232\n",
       "非都市土地使用分區       12292\n",
       "非都市土地使用編定       12294\n",
       "交易年月日               0\n",
       "交易筆棟數               0\n",
       "移轉層次             2016\n",
       "總樓層數             2049\n",
       "建物型態                0\n",
       "主要用途             2045\n",
       "主要建材             2044\n",
       "建築完成年月           2364\n",
       "建物移轉總面積平方公尺         0\n",
       "建物現況格局-房            0\n",
       "建物現況格局-廳            0\n",
       "建物現況格局-衛            0\n",
       "建物現況格局-隔間           0\n",
       "有無管理組織              0\n",
       "總價元                 0\n",
       "單價元平方公尺           478\n",
       "車位類別             7723\n",
       "車位移轉總面積平方公尺         0\n",
       "車位總價元               0\n",
       "備註              12957\n",
       "編號                  0\n",
       "dtype: int64"
      ]
     },
     "execution_count": 99,
     "metadata": {},
     "output_type": "execute_result"
    }
   ],
   "source": [
    "df.isnull().sum()"
   ]
  },
  {
   "cell_type": "code",
   "execution_count": null,
   "id": "eec28481",
   "metadata": {},
   "outputs": [],
   "source": [
    "#drop_cols = ['土地區段位置建物區段門牌','交易年月日']"
   ]
  },
  {
   "cell_type": "code",
   "execution_count": 45,
   "id": "e80734af",
   "metadata": {},
   "outputs": [
    {
     "data": {
      "text/plain": [
       "count         12986.000\n",
       "mean       10433021.375\n",
       "std        25441584.765\n",
       "min             365.000\n",
       "25%         4320000.000\n",
       "50%         7540000.000\n",
       "75%        12000000.000\n",
       "max      2132781571.000\n",
       "Name: 總價元, dtype: object"
      ]
     },
     "execution_count": 45,
     "metadata": {},
     "output_type": "execute_result"
    }
   ],
   "source": [
    "#descriptive statistics summary\n",
    "df['總價元'].describe().apply(\"{0:.3f}\".format)"
   ]
  },
  {
   "cell_type": "code",
   "execution_count": null,
   "id": "5ee73547",
   "metadata": {},
   "outputs": [],
   "source": []
  },
  {
   "cell_type": "code",
   "execution_count": null,
   "id": "ca6d3078",
   "metadata": {},
   "outputs": [],
   "source": []
  },
  {
   "cell_type": "code",
   "execution_count": 46,
   "id": "e42b9f18",
   "metadata": {},
   "outputs": [
    {
     "data": {
      "text/plain": [
       "count       12986.000\n",
       "mean       297777.509\n",
       "std        820188.874\n",
       "min             0.000\n",
       "25%             0.000\n",
       "50%             0.000\n",
       "75%             0.000\n",
       "max      41450000.000\n",
       "Name: 車位總價元, dtype: object"
      ]
     },
     "execution_count": 46,
     "metadata": {},
     "output_type": "execute_result"
    }
   ],
   "source": [
    "df['車位總價元'].describe().apply(\"{0:.3f}\".format)"
   ]
  },
  {
   "cell_type": "code",
   "execution_count": 50,
   "id": "7b34d481",
   "metadata": {},
   "outputs": [
    {
     "name": "stderr",
     "output_type": "stream",
     "text": [
      "c:\\users\\trmyi\\desktop\\ai_class\\project\\house_prediction\\lib\\site-packages\\seaborn\\axisgrid.py:88: UserWarning: Glyph 32317 (\\N{CJK UNIFIED IDEOGRAPH-7E3D}) missing from current font.\n",
      "  self._figure.tight_layout(*args, **kwargs)\n",
      "c:\\users\\trmyi\\desktop\\ai_class\\project\\house_prediction\\lib\\site-packages\\seaborn\\axisgrid.py:88: UserWarning: Glyph 20729 (\\N{CJK UNIFIED IDEOGRAPH-50F9}) missing from current font.\n",
      "  self._figure.tight_layout(*args, **kwargs)\n",
      "c:\\users\\trmyi\\desktop\\ai_class\\project\\house_prediction\\lib\\site-packages\\seaborn\\axisgrid.py:88: UserWarning: Glyph 20803 (\\N{CJK UNIFIED IDEOGRAPH-5143}) missing from current font.\n",
      "  self._figure.tight_layout(*args, **kwargs)\n"
     ]
    },
    {
     "data": {
      "text/plain": [
       "<seaborn.axisgrid.FacetGrid at 0x24351a9fa00>"
      ]
     },
     "execution_count": 50,
     "metadata": {},
     "output_type": "execute_result"
    },
    {
     "name": "stderr",
     "output_type": "stream",
     "text": [
      "c:\\users\\trmyi\\desktop\\ai_class\\project\\house_prediction\\lib\\site-packages\\IPython\\core\\pylabtools.py:151: UserWarning: Glyph 32317 (\\N{CJK UNIFIED IDEOGRAPH-7E3D}) missing from current font.\n",
      "  fig.canvas.print_figure(bytes_io, **kw)\n",
      "c:\\users\\trmyi\\desktop\\ai_class\\project\\house_prediction\\lib\\site-packages\\IPython\\core\\pylabtools.py:151: UserWarning: Glyph 20729 (\\N{CJK UNIFIED IDEOGRAPH-50F9}) missing from current font.\n",
      "  fig.canvas.print_figure(bytes_io, **kw)\n",
      "c:\\users\\trmyi\\desktop\\ai_class\\project\\house_prediction\\lib\\site-packages\\IPython\\core\\pylabtools.py:151: UserWarning: Glyph 20803 (\\N{CJK UNIFIED IDEOGRAPH-5143}) missing from current font.\n",
      "  fig.canvas.print_figure(bytes_io, **kw)\n"
     ]
    },
    {
     "data": {
      "image/png": "[encoded data removed]",
      "text/plain": [
       "<Figure size 360x360 with 1 Axes>"
      ]
     },
     "metadata": {
      "needs_background": "light"
     },
     "output_type": "display_data"
    }
   ],
   "source": [
    "import seaborn as sns\n",
    "\n",
    "\n",
    "sns.displot(df['總價元'])"
   ]
  },
  {
   "cell_type": "code",
   "execution_count": 57,
   "id": "a9413711",
   "metadata": {},
   "outputs": [
    {
     "name": "stderr",
     "output_type": "stream",
     "text": [
      "c:\\users\\trmyi\\desktop\\ai_class\\project\\house_prediction\\lib\\site-packages\\seaborn\\distributions.py:2619: FutureWarning: `distplot` is a deprecated function and will be removed in a future version. Please adapt your code to use either `displot` (a figure-level function with similar flexibility) or `histplot` (an axes-level function for histograms).\n",
      "  warnings.warn(msg, FutureWarning)\n"
     ]
    },
    {
     "data": {
      "text/plain": [
       "(-10.0, 50000000.0)"
      ]
     },
     "execution_count": 57,
     "metadata": {},
     "output_type": "execute_result"
    },
    {
     "name": "stderr",
     "output_type": "stream",
     "text": [
      "c:\\users\\trmyi\\desktop\\ai_class\\project\\house_prediction\\lib\\site-packages\\IPython\\core\\pylabtools.py:151: UserWarning: Glyph 32317 (\\N{CJK UNIFIED IDEOGRAPH-7E3D}) missing from current font.\n",
      "  fig.canvas.print_figure(bytes_io, **kw)\n",
      "c:\\users\\trmyi\\desktop\\ai_class\\project\\house_prediction\\lib\\site-packages\\IPython\\core\\pylabtools.py:151: UserWarning: Glyph 20729 (\\N{CJK UNIFIED IDEOGRAPH-50F9}) missing from current font.\n",
      "  fig.canvas.print_figure(bytes_io, **kw)\n",
      "c:\\users\\trmyi\\desktop\\ai_class\\project\\house_prediction\\lib\\site-packages\\IPython\\core\\pylabtools.py:151: UserWarning: Glyph 20803 (\\N{CJK UNIFIED IDEOGRAPH-5143}) missing from current font.\n",
      "  fig.canvas.print_figure(bytes_io, **kw)\n"
     ]
    },
    {
     "data": {
      "image/png": "[encoded data removed]",
      "text/plain": [
       "<Figure size 432x288 with 1 Axes>"
      ]
     },
     "metadata": {
      "needs_background": "light"
     },
     "output_type": "display_data"
    }
   ],
   "source": [
    "import matplotlib.pyplot as plt\n",
    "\n",
    "plt.clf()\n",
    "sns.distplot(df['總價元'])\n",
    "plt.xlim(-10,50000000)"
   ]
  },
  {
   "cell_type": "code",
   "execution_count": 74,
   "id": "47067cca",
   "metadata": {},
   "outputs": [
    {
     "name": "stdout",
     "output_type": "stream",
     "text": [
      "Skewness: 51.811456\n",
      "Kurtosis: 3924.029229\n"
     ]
    }
   ],
   "source": [
    "print(\"Skewness: %f\" % df['總價元'].skew())\n",
    "print(\"Kurtosis: %f\" % df['總價元'].kurt())"
   ]
  },
  {
   "cell_type": "code",
   "execution_count": null,
   "id": "0a9e8a2b",
   "metadata": {},
   "outputs": [],
   "source": []
  },
  {
   "cell_type": "code",
   "execution_count": 73,
   "id": "bd50b638",
   "metadata": {},
   "outputs": [
    {
     "data": {
      "text/plain": [
       "Index(['鄉鎮市區', '交易標的', '土地區段位置建物區段門牌', '土地移轉總面積平方公尺', '都市土地使用分區', '非都市土地使用分區',\n",
       "       '非都市土地使用編定', '交易年月日', '交易筆棟數', '移轉層次', '總樓層數', '建物型態', '主要用途', '主要建材',\n",
       "       '建築完成年月', '建物移轉總面積平方公尺', '建物現況格局-房', '建物現況格局-廳', '建物現況格局-衛',\n",
       "       '建物現況格局-隔間', '有無管理組織', '總價元', '單價元平方公尺', '車位類別', '車位移轉總面積平方公尺', '車位總價元',\n",
       "       '備註', '編號'],\n",
       "      dtype='object')"
      ]
     },
     "execution_count": 73,
     "metadata": {},
     "output_type": "execute_result"
    }
   ],
   "source": [
    "df.columns"
   ]
  },
  {
   "cell_type": "code",
   "execution_count": 102,
   "id": "92909e87",
   "metadata": {},
   "outputs": [],
   "source": [
    "col_to_delete_1 = ['土地區段位置建物區段門牌','交易年月日','移轉層次','總樓層數','建築完成年月','建物現況格局-隔間','有無管理組織','單價元平方公尺','備註','編號']"
   ]
  },
  {
   "cell_type": "code",
   "execution_count": 104,
   "id": "e45f5cef",
   "metadata": {},
   "outputs": [],
   "source": [
    "df = df.drop(columns=col_to_delete_1)"
   ]
  },
  {
   "cell_type": "code",
   "execution_count": 106,
   "id": "16fe8cbd",
   "metadata": {},
   "outputs": [
    {
     "data": {
      "text/plain": [
       "住     8952\n",
       "其他    1824\n",
       "商     1386\n",
       "工      411\n",
       "農      181\n",
       "Name: 都市土地使用分區, dtype: int64"
      ]
     },
     "execution_count": 106,
     "metadata": {},
     "output_type": "execute_result"
    }
   ],
   "source": [
    "df['都市土地使用分區'].value_counts()"
   ]
  },
  {
   "cell_type": "code",
   "execution_count": 111,
   "id": "fcc343da",
   "metadata": {},
   "outputs": [],
   "source": [
    "df = df[df['都市土地使用分區'] == '住']"
   ]
  },
  {
   "cell_type": "code",
   "execution_count": null,
   "id": "daca978c",
   "metadata": {},
   "outputs": [],
   "source": []
  },
  {
   "cell_type": "code",
   "execution_count": null,
   "id": "7a8f21d4",
   "metadata": {},
   "outputs": [],
   "source": []
  },
  {
   "cell_type": "code",
   "execution_count": 105,
   "id": "81a287e9",
   "metadata": {},
   "outputs": [
    {
     "data": {
      "text/plain": [
       "Index(['鄉鎮市區', '交易標的', '土地移轉總面積平方公尺', '都市土地使用分區', '非都市土地使用分區', '非都市土地使用編定',\n",
       "       '交易筆棟數', '建物型態', '主要用途', '主要建材', '建物移轉總面積平方公尺', '建物現況格局-房', '建物現況格局-廳',\n",
       "       '建物現況格局-衛', '總價元', '車位類別', '車位移轉總面積平方公尺', '車位總價元'],\n",
       "      dtype='object')"
      ]
     },
     "execution_count": 105,
     "metadata": {},
     "output_type": "execute_result"
    }
   ],
   "source": [
    "df.columns"
   ]
  },
  {
   "cell_type": "code",
   "execution_count": 112,
   "id": "d911b5b6",
   "metadata": {},
   "outputs": [
    {
     "data": {
      "text/plain": [
       "18"
      ]
     },
     "execution_count": 112,
     "metadata": {},
     "output_type": "execute_result"
    }
   ],
   "source": [
    "col_names = ['District','Product_type','L_area','CityLandUsageType','NonCityLandUsageType',\n",
    "             '非都市土地使用編定','PropertiesIncluded','PropertyType','MainUsage','MainMaterial',\n",
    "            'B_area','House/Building/Fang','LivingR','BathR','Price','ParkingType','ParkingArea',\n",
    "            'ParkingAreaPrice']\n",
    "len(col_names)"
   ]
  },
  {
   "cell_type": "code",
   "execution_count": 113,
   "id": "f42b63c3",
   "metadata": {},
   "outputs": [],
   "source": [
    "df.rename(\n",
    "    columns={i:j for i,j in zip(d_list,col_names)}, inplace=True\n",
    ")"
   ]
  },
  {
   "cell_type": "code",
   "execution_count": 114,
   "id": "4eeebccc",
   "metadata": {},
   "outputs": [
    {
     "name": "stdout",
     "output_type": "stream",
     "text": [
      "<class 'pandas.core.frame.DataFrame'>\n",
      "Int64Index: 8952 entries, 0 to 12984\n",
      "Data columns (total 18 columns):\n",
      " #   Column                Non-Null Count  Dtype  \n",
      "---  ------                --------------  -----  \n",
      " 0   District              8952 non-null   object \n",
      " 1   Product_type          8952 non-null   object \n",
      " 2   CityLandUsageType     8952 non-null   float64\n",
      " 3   NonCityLandUsageType  8952 non-null   object \n",
      " 4   非都市土地使用編定             125 non-null    object \n",
      " 5   PropertiesIncluded    125 non-null    object \n",
      " 6   MainUsage             8952 non-null   object \n",
      " 7   House/Building/Fang   8952 non-null   object \n",
      " 8   LivingR               8349 non-null   object \n",
      " 9   BathR                 8350 non-null   object \n",
      " 10  ParkingType           8952 non-null   float64\n",
      " 11  ParkingArea           8952 non-null   float64\n",
      " 12  ParkingAreaPrice      8952 non-null   float64\n",
      " 13  建物現況格局-衛              8952 non-null   float64\n",
      " 14  總價元                   8952 non-null   float64\n",
      " 15  車位類別                  3716 non-null   object \n",
      " 16  車位移轉總面積平方公尺           8952 non-null   float64\n",
      " 17  車位總價元                 8952 non-null   float64\n",
      "dtypes: float64(8), object(10)\n",
      "memory usage: 1.3+ MB\n"
     ]
    }
   ],
   "source": [
    "df.info()"
   ]
  },
  {
   "cell_type": "code",
   "execution_count": 94,
   "id": "115ce21f",
   "metadata": {},
   "outputs": [
    {
     "name": "stderr",
     "output_type": "stream",
     "text": [
      "c:\\users\\trmyi\\desktop\\ai_class\\project\\house_prediction\\lib\\site-packages\\IPython\\core\\pylabtools.py:151: UserWarning: Glyph 24314 (\\N{CJK UNIFIED IDEOGRAPH-5EFA}) missing from current font.\n",
      "  fig.canvas.print_figure(bytes_io, **kw)\n",
      "c:\\users\\trmyi\\desktop\\ai_class\\project\\house_prediction\\lib\\site-packages\\IPython\\core\\pylabtools.py:151: UserWarning: Glyph 29289 (\\N{CJK UNIFIED IDEOGRAPH-7269}) missing from current font.\n",
      "  fig.canvas.print_figure(bytes_io, **kw)\n",
      "c:\\users\\trmyi\\desktop\\ai_class\\project\\house_prediction\\lib\\site-packages\\IPython\\core\\pylabtools.py:151: UserWarning: Glyph 31227 (\\N{CJK UNIFIED IDEOGRAPH-79FB}) missing from current font.\n",
      "  fig.canvas.print_figure(bytes_io, **kw)\n",
      "c:\\users\\trmyi\\desktop\\ai_class\\project\\house_prediction\\lib\\site-packages\\IPython\\core\\pylabtools.py:151: UserWarning: Glyph 36681 (\\N{CJK UNIFIED IDEOGRAPH-8F49}) missing from current font.\n",
      "  fig.canvas.print_figure(bytes_io, **kw)\n",
      "c:\\users\\trmyi\\desktop\\ai_class\\project\\house_prediction\\lib\\site-packages\\IPython\\core\\pylabtools.py:151: UserWarning: Glyph 32317 (\\N{CJK UNIFIED IDEOGRAPH-7E3D}) missing from current font.\n",
      "  fig.canvas.print_figure(bytes_io, **kw)\n",
      "c:\\users\\trmyi\\desktop\\ai_class\\project\\house_prediction\\lib\\site-packages\\IPython\\core\\pylabtools.py:151: UserWarning: Glyph 38754 (\\N{CJK UNIFIED IDEOGRAPH-9762}) missing from current font.\n",
      "  fig.canvas.print_figure(bytes_io, **kw)\n",
      "c:\\users\\trmyi\\desktop\\ai_class\\project\\house_prediction\\lib\\site-packages\\IPython\\core\\pylabtools.py:151: UserWarning: Glyph 31309 (\\N{CJK UNIFIED IDEOGRAPH-7A4D}) missing from current font.\n",
      "  fig.canvas.print_figure(bytes_io, **kw)\n",
      "c:\\users\\trmyi\\desktop\\ai_class\\project\\house_prediction\\lib\\site-packages\\IPython\\core\\pylabtools.py:151: UserWarning: Glyph 24179 (\\N{CJK UNIFIED IDEOGRAPH-5E73}) missing from current font.\n",
      "  fig.canvas.print_figure(bytes_io, **kw)\n",
      "c:\\users\\trmyi\\desktop\\ai_class\\project\\house_prediction\\lib\\site-packages\\IPython\\core\\pylabtools.py:151: UserWarning: Glyph 26041 (\\N{CJK UNIFIED IDEOGRAPH-65B9}) missing from current font.\n",
      "  fig.canvas.print_figure(bytes_io, **kw)\n",
      "c:\\users\\trmyi\\desktop\\ai_class\\project\\house_prediction\\lib\\site-packages\\IPython\\core\\pylabtools.py:151: UserWarning: Glyph 20844 (\\N{CJK UNIFIED IDEOGRAPH-516C}) missing from current font.\n",
      "  fig.canvas.print_figure(bytes_io, **kw)\n",
      "c:\\users\\trmyi\\desktop\\ai_class\\project\\house_prediction\\lib\\site-packages\\IPython\\core\\pylabtools.py:151: UserWarning: Glyph 23610 (\\N{CJK UNIFIED IDEOGRAPH-5C3A}) missing from current font.\n",
      "  fig.canvas.print_figure(bytes_io, **kw)\n",
      "c:\\users\\trmyi\\desktop\\ai_class\\project\\house_prediction\\lib\\site-packages\\IPython\\core\\pylabtools.py:151: UserWarning: Glyph 20729 (\\N{CJK UNIFIED IDEOGRAPH-50F9}) missing from current font.\n",
      "  fig.canvas.print_figure(bytes_io, **kw)\n",
      "c:\\users\\trmyi\\desktop\\ai_class\\project\\house_prediction\\lib\\site-packages\\IPython\\core\\pylabtools.py:151: UserWarning: Glyph 20803 (\\N{CJK UNIFIED IDEOGRAPH-5143}) missing from current font.\n",
      "  fig.canvas.print_figure(bytes_io, **kw)\n"
     ]
    },
    {
     "data": {
      "image/png": "[encoded data removed]",
      "text/plain": [
       "<Figure size 432x288 with 1 Axes>"
      ]
     },
     "metadata": {
      "needs_background": "light"
     },
     "output_type": "display_data"
    }
   ],
   "source": [
    "#scatter plot grlivarea/saleprice\n",
    "var = '建物移轉總面積平方公尺'\n",
    "data = pd.concat([df['總價元'], df[var]], axis=1)\n",
    "data.plot.scatter(x=var, y='總價元');"
   ]
  },
  {
   "cell_type": "code",
   "execution_count": 101,
   "id": "1301f508",
   "metadata": {},
   "outputs": [
    {
     "data": {
      "text/plain": [
       "0.00      1540\n",
       "36.37      117\n",
       "36.62      105\n",
       "36.63      103\n",
       "32.37       56\n",
       "          ... \n",
       "67.11        1\n",
       "81.95        1\n",
       "781.88       1\n",
       "115.14       1\n",
       "31.03        1\n",
       "Name: 建物移轉總面積平方公尺, Length: 6966, dtype: int64"
      ]
     },
     "execution_count": 101,
     "metadata": {},
     "output_type": "execute_result"
    }
   ],
   "source": [
    "data[var].value_counts()"
   ]
  },
  {
   "cell_type": "code",
   "execution_count": 97,
   "id": "b7519e48",
   "metadata": {
    "scrolled": true
   },
   "outputs": [
    {
     "name": "stdout",
     "output_type": "stream",
     "text": [
      "<class 'pandas.core.frame.DataFrame'>\n",
      "RangeIndex: 12986 entries, 0 to 12985\n",
      "Data columns (total 2 columns):\n",
      " #   Column       Non-Null Count  Dtype  \n",
      "---  ------       --------------  -----  \n",
      " 0   總價元          12986 non-null  float64\n",
      " 1   建物移轉總面積平方公尺  12986 non-null  float64\n",
      "dtypes: float64(2)\n",
      "memory usage: 203.0 KB\n"
     ]
    }
   ],
   "source": [
    "data.info()"
   ]
  },
  {
   "cell_type": "code",
   "execution_count": 77,
   "id": "14b6aa16",
   "metadata": {},
   "outputs": [
    {
     "data": {
      "image/png": "[encoded data removed]",
      "text/plain": [
       "<Figure size 2016x2016 with 2 Axes>"
      ]
     },
     "metadata": {
      "needs_background": "light"
     },
     "output_type": "display_data"
    }
   ],
   "source": [
    "#correlation matrix\n",
    "corrmat = df.corr()\n",
    "f, ax = plt.subplots(figsize=(28, 28))\n",
    "sns.heatmap(corrmat, vmax=.8, square=True);"
   ]
  },
  {
   "cell_type": "code",
   "execution_count": null,
   "id": "851ac60d",
   "metadata": {},
   "outputs": [],
   "source": [
    "df[df['主要用途'] < 25"
   ]
  },
  {
   "cell_type": "code",
   "execution_count": null,
   "id": "af7d9ab8",
   "metadata": {},
   "outputs": [],
   "source": [
    "df['主要用途']"
   ]
  },
  {
   "cell_type": "code",
   "execution_count": null,
   "id": "38b79840",
   "metadata": {},
   "outputs": [],
   "source": []
  },
  {
   "cell_type": "code",
   "execution_count": null,
   "id": "ff0a1b55",
   "metadata": {},
   "outputs": [],
   "source": []
  },
  {
   "cell_type": "code",
   "execution_count": null,
   "id": "f9ad59a3",
   "metadata": {},
   "outputs": [],
   "source": []
  },
  {
   "cell_type": "code",
   "execution_count": null,
   "id": "b8330e64",
   "metadata": {},
   "outputs": [],
   "source": []
  },
  {
   "cell_type": "code",
   "execution_count": null,
   "id": "deaacdb1",
   "metadata": {},
   "outputs": [],
   "source": []
  }
 ],
 "metadata": {
  "kernelspec": {
   "display_name": "Python 3 (ipykernel)",
   "language": "python",
   "name": "python3"
  },
  "language_info": {
   "codemirror_mode": {
    "name": "ipython",
    "version": 3
   },
   "file_extension": ".py",
   "mimetype": "text/x-python",
   "name": "python",
   "nbconvert_exporter": "python",
   "pygments_lexer": "ipython3",
   "version": "3.9.5"
  }
 },
 "nbformat": 4,
 "nbformat_minor": 5
}
